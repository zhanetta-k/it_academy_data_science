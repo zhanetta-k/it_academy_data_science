{
  "cells": [
    {
      "cell_type": "markdown",
      "metadata": {
        "id": "qxDd1-_5vTFN"
      },
      "source": [
        "### Translation with Seq2Seq"
      ]
    },
    {
      "cell_type": "code",
      "execution_count": 1,
      "metadata": {
        "colab": {
          "base_uri": "https://localhost:8080/"
        },
        "id": "JTuhPFdevz3W",
        "outputId": "2ea53218-3360-4e80-f069-f66379311330"
      },
      "outputs": [
        {
          "name": "stdout",
          "output_type": "stream",
          "text": [
            "Drive already mounted at /content/drive; to attempt to forcibly remount, call drive.mount(\"/content/drive\", force_remount=True).\n"
          ]
        }
      ],
      "source": [
        "from google.colab import drive, files\n",
        "drive.mount('/content/drive')"
      ]
    },
    {
      "cell_type": "code",
      "execution_count": 2,
      "metadata": {
        "id": "LMmU6fdLvTFP"
      },
      "outputs": [],
      "source": [
        "import time\n",
        "import math\n",
        "import random\n",
        "import unicodedata\n",
        "import re\n",
        "import torch\n",
        "import torch.nn\n",
        "import torch.nn.functional as F\n",
        "from torchtext.data.metrics import bleu_score\n",
        "\n",
        "import matplotlib.pyplot as plt\n",
        "import matplotlib.ticker as ticker\n",
        "import warnings\n",
        "warnings.filterwarnings(\"ignore\")"
      ]
    },
    {
      "cell_type": "code",
      "execution_count": 3,
      "metadata": {
        "id": "Qebp_D1WvTFQ"
      },
      "outputs": [],
      "source": [
        "n_iters = 75000\n",
        "learning_rate = 0.01\n",
        "teacher_forcing_ratio = 0.5\n",
        "\n",
        "file_name = 'data/eng-bel.txt'\n",
        "device = torch.device(\"cuda\" if torch.cuda.is_available() else \"cpu\")"
      ]
    },
    {
      "cell_type": "markdown",
      "metadata": {
        "id": "9Z72b5LOvTFR"
      },
      "source": [
        "#### Data preparation and processing"
      ]
    },
    {
      "cell_type": "code",
      "execution_count": 4,
      "metadata": {
        "id": "-zKty3-nvTFR"
      },
      "outputs": [],
      "source": [
        "SOS_token = 0\n",
        "EOS_token = 1\n",
        "\n",
        "\n",
        "class LanguageVocab(object):\n",
        "    def __init__(self, name):\n",
        "\n",
        "        self.name = name\n",
        "        self.word2index = {}\n",
        "        self.word2count = {}\n",
        "        self.index2word = {0: \"SOS\", 1: \"EOS\"}\n",
        "        self.n_words = 2\n",
        "\n",
        "    def add_sentence(self, sentence):\n",
        "        for word in sentence.split(' '):\n",
        "            self.add_word(word)\n",
        "\n",
        "    def add_word(self, word):\n",
        "        if word not in self.word2index:\n",
        "            self.word2index[word] = self.n_words\n",
        "            self.word2count[word] = 1\n",
        "            self.index2word[self.n_words] = word\n",
        "            self.n_words += 1\n",
        "        else:\n",
        "            self.word2count[word] += 1"
      ]
    },
    {
      "cell_type": "code",
      "execution_count": 5,
      "metadata": {
        "id": "gjedRrpRvTFR"
      },
      "outputs": [],
      "source": [
        "def unicode_to_ascii(s):\n",
        "    return ''.join(\n",
        "        c for c in unicodedata.normalize('NFD', s)\n",
        "        if unicodedata.category(c) != 'Mn')\n",
        "\n",
        "def normalize_string(s):\n",
        "    s = re.sub(r\"CC-BY .*\", r\" \", s)\n",
        "    s = unicode_to_ascii(s.lower().strip())\n",
        "    s = re.sub(r\"([.!?])\", r\" \\1\", s)\n",
        "    s = re.sub(r\"[^a-zA-Zа-яА-ЯёЁ.!?]+\", r\" \", s)\n",
        "    return s"
      ]
    },
    {
      "cell_type": "code",
      "execution_count": 6,
      "metadata": {
        "id": "yjrLS_qLvTFS"
      },
      "outputs": [],
      "source": [
        "def read_languages(lang1, lang2, reverse=False):\n",
        "    lines = open('data/%s-%s.txt' % (lang1, lang2), encoding='utf-8').\\\n",
        "            read().strip().split('\\n')\n",
        "\n",
        "    pairs = [[normalize_string(s) for s in l.split('\\t')] for l in lines]\n",
        "    # Remove the last empty string and filter pairs\n",
        "    pairs = [[elem for elem in pair if elem != ''] for pair in pairs]\n",
        "\n",
        "    if reverse:\n",
        "        pairs = [list(reversed(p)) for p in pairs]\n",
        "        input_lang = LanguageVocab(lang2)\n",
        "        output_lang = LanguageVocab(lang1)\n",
        "    else:\n",
        "        input_lang = LanguageVocab(lang1)\n",
        "        output_lang = LanguageVocab(lang2)\n",
        "\n",
        "    return input_lang, output_lang, pairs\n",
        "\n",
        "\n",
        "def count_max_length(pairs):\n",
        "    bel_row = []\n",
        "    eng_row = []\n",
        "    for i in range(len(pairs)):\n",
        "        for pair in pairs:\n",
        "            bel_length = len(pair[0].split(' '))\n",
        "            eng_length = len(pair[0].split(' '))\n",
        "            bel_row.append(bel_length)\n",
        "            eng_row.append(eng_length)\n",
        "    max_bel = max(bel_row)\n",
        "    max_eng = max(eng_row)\n",
        "    return max(max_bel, max_eng)"
      ]
    },
    {
      "cell_type": "code",
      "execution_count": 7,
      "metadata": {
        "id": "oOR-dlfPvTFS"
      },
      "outputs": [],
      "source": [
        "def prepare_data(lang1, lang2, reverse=False):\n",
        "    input_lang, output_lang, pairs = read_languages(lang1, lang2, reverse)\n",
        "    print(\"Number of sentence pairs: %s\" % len(pairs))\n",
        "\n",
        "    for pair in pairs:\n",
        "        input_lang.add_sentence(pair[0])\n",
        "        output_lang.add_sentence(pair[1])\n",
        "\n",
        "    print(\"Counted words:\")\n",
        "    print(input_lang.name, input_lang.n_words)\n",
        "    print(output_lang.name, output_lang.n_words)\n",
        "\n",
        "    return input_lang, output_lang, pairs"
      ]
    },
    {
      "cell_type": "code",
      "execution_count": 8,
      "metadata": {
        "colab": {
          "base_uri": "https://localhost:8080/"
        },
        "id": "nA5-HYZ6vTFT",
        "outputId": "69f57ebd-5930-4a62-bc87-db6e2adf9893"
      },
      "outputs": [
        {
          "name": "stdout",
          "output_type": "stream",
          "text": [
            "Number of sentence pairs: 3818\n",
            "Counted words:\n",
            "bel 4005\n",
            "eng 2312\n",
            "['мне трэба было штосьц зраб ць .', 'i should ve done something .']\n",
            "The maximum length of phrases: 25\n"
          ]
        }
      ],
      "source": [
        "input_lang, output_lang, pairs = prepare_data('eng', 'bel', True)\n",
        "print(random.choice(pairs))\n",
        "\n",
        "max_length = count_max_length(pairs) + 1\n",
        "print(f'The maximum length of phrases: {max_length}')"
      ]
    },
    {
      "cell_type": "markdown",
      "metadata": {
        "id": "hH-lAp4rvTFU"
      },
      "source": [
        "#### Encoder"
      ]
    },
    {
      "cell_type": "code",
      "execution_count": 9,
      "metadata": {
        "id": "9gqbOD2pvTFU"
      },
      "outputs": [],
      "source": [
        "class EncoderRNN(torch.nn.Module):\n",
        "    def __init__(self, input_size, hidden_size):\n",
        "        super(EncoderRNN, self).__init__()\n",
        "        self.hidden_size = hidden_size\n",
        "\n",
        "        self.embedding = torch.nn.Embedding(input_size, hidden_size)\n",
        "        self.gru = torch.nn.GRU(hidden_size, hidden_size)\n",
        "\n",
        "    def forward(self, input, hidden):\n",
        "        embedded = self.embedding(input).view(1, 1, -1)\n",
        "        output = embedded\n",
        "        output, hidden = self.gru(output, hidden)\n",
        "        return output, hidden\n",
        "\n",
        "    def initHidden(self):\n",
        "        return torch.zeros(1, 1, self.hidden_size, device=device)"
      ]
    },
    {
      "cell_type": "markdown",
      "metadata": {
        "id": "QYaEJ9FdvTFU"
      },
      "source": [
        "#### Decoder"
      ]
    },
    {
      "cell_type": "code",
      "execution_count": 10,
      "metadata": {
        "id": "JWLoqe3svTFV"
      },
      "outputs": [],
      "source": [
        "class DecoderRNN(torch.nn.Module):\n",
        "    def __init__(self, hidden_size, output_size):\n",
        "        super(DecoderRNN, self).__init__()\n",
        "        self.hidden_size = hidden_size\n",
        "\n",
        "        self.embedding = torch.nn.Embedding(output_size, hidden_size)\n",
        "        self.gru = torch.nn.GRU(hidden_size, hidden_size)\n",
        "\n",
        "        self.out = torch.nn.Linear(hidden_size, output_size)\n",
        "        self.softmax = torch.nn.LogSoftmax(dim=1)\n",
        "\n",
        "    def forward(self, input, hidden):\n",
        "        output = self.embedding(input).view(1, 1, -1)\n",
        "        output = F.relu(output)\n",
        "        output, hidden = self.gru(output, hidden)\n",
        "        output = self.softmax(self.out(output[0]))\n",
        "        return output, hidden\n",
        "\n",
        "    def initHidden(self):\n",
        "        return torch.zeros(1, 1, self.hidden_size, device=device)"
      ]
    },
    {
      "cell_type": "code",
      "execution_count": 11,
      "metadata": {
        "id": "IVurzq72vTFV"
      },
      "outputs": [],
      "source": [
        "def indexesFromSentence(lang, sentence):\n",
        "    return [lang.word2index[word] for word in sentence.split(' ')]\n",
        "\n",
        "def tensorFromSentence(lang, sentence):\n",
        "    indexes = indexesFromSentence(lang, sentence)\n",
        "    indexes.append(EOS_token)\n",
        "    return torch.tensor(indexes, dtype=torch.long, device=device).view(-1, 1)\n",
        "\n",
        "def tensorsFromPair(pair):\n",
        "    input_tensor = tensorFromSentence(input_lang, pair[0])\n",
        "    target_tensor = tensorFromSentence(output_lang, pair[1])\n",
        "    return (input_tensor, target_tensor)"
      ]
    },
    {
      "cell_type": "code",
      "execution_count": 12,
      "metadata": {
        "id": "3XwmEidavTFV"
      },
      "outputs": [],
      "source": [
        "def train(input_tensor, target_tensor, encoder, decoder, encoder_optimizer,\n",
        "          decoder_optimizer, criterion, max_length=max_length):\n",
        "    encoder_hidden = encoder.initHidden()\n",
        "    encoder_optimizer.zero_grad()\n",
        "    decoder_optimizer.zero_grad()\n",
        "    \n",
        "    input_length = input_tensor.size(0)\n",
        "    target_length = target_tensor.size(0)\n",
        "    \n",
        "    encoder_outputs = torch.zeros(max_length, encoder.hidden_size, device=device)\n",
        "    loss = 0\n",
        "    \n",
        "    for ei in range(input_length):\n",
        "        encoder_output, encoder_hidden = encoder(input_tensor[ei], encoder_hidden)\n",
        "        encoder_outputs[ei] = encoder_output[0, 0]\n",
        "\n",
        "    decoder_input = torch.tensor([[SOS_token]], device=device)\n",
        "    decoder_hidden = encoder_hidden\n",
        "\n",
        "    use_teacher_forcing = True if random.random() < teacher_forcing_ratio else False\n",
        "    if use_teacher_forcing:\n",
        "        # Teacher forcing: feed the target as the next input\n",
        "        for di in range(target_length):\n",
        "            decoder_output, decoder_hidden = decoder(decoder_input, decoder_hidden)\n",
        "            loss += criterion(decoder_output, target_tensor[di])\n",
        "            decoder_input = target_tensor[di]\n",
        "    else:\n",
        "        # Without teacher forcing: use its own predictions as the next input\n",
        "        for di in range(target_length):\n",
        "            decoder_output, decoder_hidden = decoder(decoder_input, decoder_hidden)\n",
        "            topv, topi = decoder_output.topk(1)\n",
        "            decoder_input = topi.squeeze().detach()\n",
        "            loss += criterion(decoder_output, target_tensor[di])\n",
        "            if decoder_input.item() == EOS_token:\n",
        "                break\n",
        "                \n",
        "    loss.backward()\n",
        "    encoder_optimizer.step()\n",
        "    decoder_optimizer.step()\n",
        "    return loss.item() / target_length"
      ]
    },
    {
      "cell_type": "code",
      "execution_count": 13,
      "metadata": {
        "id": "D9qJo5qLvTFW"
      },
      "outputs": [],
      "source": [
        "def asMinutes(s):\n",
        "    m = math.floor(s / 60)\n",
        "    s -= m * 60\n",
        "    return '%dm %ds' % (m, s)\n",
        "\n",
        "def timeSince(since, percent):\n",
        "    now = time.time()\n",
        "    s = now - since\n",
        "    es = s / percent\n",
        "    rs = es - s\n",
        "    return '%s (- eta: %s)' % (asMinutes(s), asMinutes(rs))\n",
        "\n",
        "def show_plot(points):\n",
        "    plt.figure()\n",
        "    fig, ax = plt.subplots()\n",
        "    # this locator puts ticks at regular intervals\n",
        "    loc = ticker.MultipleLocator(base=0.2)\n",
        "    ax.yaxis.set_major_locator(loc)\n",
        "    plt.plot(points)"
      ]
    },
    {
      "cell_type": "code",
      "execution_count": 14,
      "metadata": {
        "id": "qM-c3PbHvTFW"
      },
      "outputs": [],
      "source": [
        "def trainIters(encoder, decoder, n_iters, print_every=1000, plot_every=100, learning_rate=learning_rate):\n",
        "    start = time.time()\n",
        "    plot_losses = []\n",
        "    print_loss_total = 0\n",
        "    plot_loss_total = 0\n",
        "\n",
        "    encoder_optimizer = torch.optim.SGD(encoder.parameters(), lr=learning_rate)\n",
        "    decoder_optimizer = torch.optim.SGD(decoder.parameters(), lr=learning_rate)\n",
        "\n",
        "    training_pairs = [tensorsFromPair(random.choice(pairs)) for i in range(n_iters)]\n",
        "    criterion = torch.nn.NLLLoss()\n",
        "\n",
        "    for epoch in range(1, n_iters + 1):\n",
        "        training_pair = training_pairs[epoch - 1]\n",
        "        input_tensor = training_pair[0]\n",
        "        target_tensor = training_pair[1]\n",
        "        \n",
        "        loss = train(input_tensor, target_tensor, encoder,\n",
        "                     decoder, encoder_optimizer, decoder_optimizer, criterion)\n",
        "        print_loss_total += loss\n",
        "        plot_loss_total += loss\n",
        "\n",
        "        if epoch % print_every == 0:\n",
        "            print_loss_avg = print_loss_total / print_every\n",
        "            print_loss_total = 0\n",
        "            print('%s (%d %d%%) %.4f' % (timeSince(start, epoch / n_iters),\n",
        "                                         epoch, epoch / n_iters * 100, print_loss_avg))\n",
        "\n",
        "        if epoch % plot_every == 0:\n",
        "            plot_loss_avg = plot_loss_total / plot_every\n",
        "            plot_losses.append(plot_loss_avg)\n",
        "            plot_loss_total = 0\n",
        "    show_plot(plot_losses)"
      ]
    },
    {
      "cell_type": "code",
      "execution_count": 15,
      "metadata": {
        "colab": {
          "base_uri": "https://localhost:8080/",
          "height": 546
        },
        "id": "LsaAE0BcvTFW",
        "outputId": "a44d4e35-0d99-45b3-f47b-80f8faf0ac36"
      },
      "outputs": [
        {
          "name": "stdout",
          "output_type": "stream",
          "text": [
            "0m 45s (- eta: 10m 30s) (5000 6%) 3.9774\n",
            "1m 27s (- eta: 9m 27s) (10000 13%) 3.3546\n",
            "2m 11s (- eta: 8m 44s) (15000 20%) 2.8826\n",
            "2m 54s (- eta: 7m 59s) (20000 26%) 2.3963\n",
            "3m 37s (- eta: 7m 14s) (25000 33%) 1.9061\n",
            "4m 20s (- eta: 6m 31s) (30000 40%) 1.5039\n",
            "5m 4s (- eta: 5m 47s) (35000 46%) 1.1838\n",
            "5m 48s (- eta: 5m 5s) (40000 53%) 0.9457\n",
            "6m 32s (- eta: 4m 21s) (45000 60%) 0.6941\n",
            "7m 16s (- eta: 3m 38s) (50000 66%) 0.5348\n",
            "8m 0s (- eta: 2m 54s) (55000 73%) 0.4082\n",
            "8m 45s (- eta: 2m 11s) (60000 80%) 0.3089\n",
            "9m 29s (- eta: 1m 27s) (65000 86%) 0.2232\n",
            "10m 19s (- eta: 0m 44s) (70000 93%) 0.1756\n",
            "11m 3s (- eta: 0m 0s) (75000 100%) 0.1349\n"
          ]
        },
        {
          "data": {
            "text/plain": [
              "<Figure size 432x288 with 0 Axes>"
            ]
          },
          "metadata": {},
          "output_type": "display_data"
        },
        {
          "data": {
            "image/png": "[encoded data removed]",
            "text/plain": [
              "<Figure size 432x288 with 1 Axes>"
            ]
          },
          "metadata": {
            "needs_background": "light"
          },
          "output_type": "display_data"
        }
      ],
      "source": [
        "hidden_size = 256\n",
        "encoder1 = EncoderRNN(input_lang.n_words, hidden_size).to(device)\n",
        "decoder1 = DecoderRNN(hidden_size, output_lang.n_words).to(device)\n",
        "trainIters(encoder1, decoder1, n_iters, print_every=5000)"
      ]
    },
    {
      "cell_type": "markdown",
      "metadata": {
        "id": "EdBnJefqM38w"
      },
      "source": [
        "#### Evaluation"
      ]
    },
    {
      "cell_type": "code",
      "execution_count": 16,
      "metadata": {
        "id": "Ika31SnCA7d6"
      },
      "outputs": [],
      "source": [
        "def evaluate(encoder, decoder, sentence, max_length=max_length):\n",
        "    with torch.no_grad():\n",
        "        input_tensor = tensorFromSentence(input_lang, sentence)\n",
        "        input_length = input_tensor.size()[0]\n",
        "        encoder_hidden = encoder.initHidden()\n",
        "        encoder_outputs = torch.zeros(max_length, encoder.hidden_size, device=device)\n",
        "\n",
        "        for i in range(input_length):\n",
        "            encoder_output, encoder_hidden = encoder(input_tensor[i], encoder_hidden)\n",
        "            encoder_outputs[i] += encoder_output[0, 0]\n",
        "\n",
        "        decoder_input = torch.tensor([[SOS_token]], device=device)\n",
        "        decoder_hidden = encoder_hidden\n",
        "        decoded_words = []\n",
        "\n",
        "        for di in range(max_length):\n",
        "            decoder_output, decoder_hidden = decoder(decoder_input, decoder_hidden)\n",
        "            topv, topi = decoder_output.data.topk(1)\n",
        "            if topi.item() == EOS_token:\n",
        "                decoded_words.append('<EOS>')\n",
        "                break\n",
        "            else:\n",
        "                decoded_words.append(output_lang.index2word[topi.item()])\n",
        "            decoder_input = topi.squeeze().detach()\n",
        "        return decoded_words"
      ]
    },
    {
      "cell_type": "code",
      "execution_count": 17,
      "metadata": {
        "id": "ZGR_NU8VvTFW"
      },
      "outputs": [],
      "source": [
        "def evaluateRandomly(encoder, decoder, n=10):\n",
        "    reference_corpus = []\n",
        "    candidate_corpus = []\n",
        "\n",
        "    for i in range(n):\n",
        "        pair = random.choice(pairs)\n",
        "        sentence = pair[0]\n",
        "        translation = pair[1]\n",
        "        print('>', sentence)\n",
        "        print('=', translation)\n",
        "        output_words = evaluate(encoder, decoder, pair[0])\n",
        "        output_sentence = ' '.join(output_words)\n",
        "\n",
        "        # bleu score\n",
        "        reference = translation.split()\n",
        "        reference_corpus.append(reference)\n",
        "        # remove <EOS> at the end\n",
        "        candidate = [output_sentence.split()[:-1]]\n",
        "        candidate_corpus.append(candidate)\n",
        "        print('<', output_sentence)\n",
        "\n",
        "    print('_' * 18)\n",
        "    print('BLEU score: {:.4f}'.format(bleu_score(reference_corpus, candidate_corpus)))"
      ]
    },
    {
      "cell_type": "code",
      "execution_count": 18,
      "metadata": {
        "colab": {
          "base_uri": "https://localhost:8080/"
        },
        "id": "8yekkee97CUC",
        "outputId": "561202cf-424e-4cc7-f907-dea83a58fd52"
      },
      "outputs": [
        {
          "name": "stdout",
          "output_type": "stream",
          "text": [
            "> ты мая лепшая сяброука .\n",
            "= you re my best friend .\n",
            "< you are my best friend . <EOS>\n",
            "> я даручыла ф нансы сям жонцы .\n",
            "= i entrusted my wife with the family finances .\n",
            "< i entrusted my wife with the family finances . <EOS>\n",
            "> я люблю цемны шакалад .\n",
            "= i like dark chocolate .\n",
            "< i like dark chocolate . <EOS>\n",
            "> гэта мои кот .\n",
            "= that s my cat .\n",
            "< this is my cat . <EOS>\n",
            "> яна н кол не пападае па мячу .\n",
            "= she is always missing the ball .\n",
            "< she is always missing the ball . <EOS>\n",
            "> гэта сапрауднае золата .\n",
            "= that s real gold .\n",
            "< that s real gold . <EOS>\n",
            "> усе ведаюць што два плюс два чатыры .\n",
            "= everybody knows that two and two make four .\n",
            "< everybody knows that two and two make four . <EOS>\n",
            "> ты не здагадауся закрыць вокны ?\n",
            "= didn t it occur to you to shut the windows ?\n",
            "< didn t it occur to you to shut the windows ? <EOS>\n",
            ">  дз це за мнои .\n",
            "= follow me .\n",
            "< follow me . <EOS>\n",
            "> дзе кот ?\n",
            "= where is the cat ?\n",
            "< where is the cat ? <EOS>\n",
            "__________________\n",
            "BLEU score: 0.9192\n"
          ]
        }
      ],
      "source": [
        "evaluateRandomly(encoder1, decoder1)"
      ]
    },
    {
      "cell_type": "code",
      "execution_count": null,
      "metadata": {},
      "outputs": [],
      "source": []
    }
  ],
  "metadata": {
    "accelerator": "GPU",
    "colab": {
      "collapsed_sections": [],
      "provenance": []
    },
    "kernelspec": {
      "display_name": "Python 3.10.5 64-bit",
      "language": "python",
      "name": "python3"
    },
    "language_info": {
      "codemirror_mode": {
        "name": "ipython",
        "version": 3
      },
      "file_extension": ".py",
      "mimetype": "text/x-python",
      "name": "python",
      "nbconvert_exporter": "python",
      "pygments_lexer": "ipython3",
      "version": "3.10.5"
    },
    "orig_nbformat": 4,
    "vscode": {
      "interpreter": {
        "hash": "afb734500600fd355917ca529030176ea0ca205570884b88f2f6f7d791fd3fbe"
      }
    }
  },
  "nbformat": 4,
  "nbformat_minor": 0
}
