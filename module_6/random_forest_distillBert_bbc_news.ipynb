{
  "cells": [
    {
      "cell_type": "markdown",
      "metadata": {
        "id": "WIq3VXYP2hkd"
      },
      "source": [
        "### BBC News: Random Forest and DistillBert"
      ]
    },
    {
      "cell_type": "code",
      "execution_count": 1,
      "metadata": {
        "id": "SyZV5BzO2hkh"
      },
      "outputs": [],
      "source": [
        "import os\n",
        "import re\n",
        "import glob\n",
        "from pathlib import Path\n",
        "import pickle\n",
        "import pandas as pd\n",
        "import numpy as np\n",
        "\n",
        "from pymystem3 import Mystem\n",
        "from nltk.corpus import stopwords\n",
        "\n",
        "from sklearn.model_selection import train_test_split\n",
        "from sklearn.preprocessing import LabelEncoder\n",
        "from sklearn.feature_extraction.text import TfidfVectorizer\n",
        "from sklearn.ensemble import RandomForestClassifier\n",
        "from sklearn.metrics import *\n",
        "import matplotlib.pyplot as plt\n",
        "import seaborn as sns\n",
        "\n",
        "import warnings\n",
        "warnings.filterwarnings(\"ignore\")"
      ]
    },
    {
      "cell_type": "markdown",
      "metadata": {
        "id": "hUu1xqu82hkj"
      },
      "source": [
        "Data preprocessing"
      ]
    },
    {
      "cell_type": "code",
      "execution_count": null,
      "metadata": {
        "id": "d63dawqa2hkk"
      },
      "outputs": [],
      "source": [
        "# Compile all files into one and create a dataset\n",
        "def compile_files(path_folder, csv_file):\n",
        "    with open(csv_file, 'w', encoding='utf-8') as csv_f:\n",
        "        for path in glob.glob(path_folder+'/*.txt'):\n",
        "            with open(path) as txt_f:\n",
        "                txt = txt_f.read() + '\\n'\n",
        "                csv_f.write(txt)\n",
        "    return csv_file\n",
        "\n",
        "\n",
        "def make_dataset(folders, csv_files):\n",
        "    data = []\n",
        "    for i in range(len(folders)):\n",
        "        for n in range(len(csv_files)):\n",
        "            raw_data = compile_files(folders[i], csv_files[n])\n",
        "            raw_data = pd.read_csv(csv_files[n], sep='delimiter', names=['news_data'])\n",
        "            raw_data['class_label'] = Path(folders[i]).stem\n",
        "        data.append(raw_data)\n",
        "    return pd.concat(data, ignore_index=True)"
      ]
    },
    {
      "cell_type": "code",
      "execution_count": null,
      "metadata": {
        "id": "Y1ZqJ78B2hkk"
      },
      "outputs": [],
      "source": [
        "folders = ['data/business', 'data/entertainment', 'data/politics',\n",
        "           'data/sport', 'data/tech']\n",
        "raw_csv = ['data/raw1.csv', 'data/raw2.csv', 'data/raw3.csv',\n",
        "           'data/raw4.csv', 'data/raw5.csv']\n",
        "\n",
        "dataset = make_dataset(folders, raw_csv)\n",
        "dataset.to_csv('data/bbc_news.csv', index=False)"
      ]
    },
    {
      "cell_type": "code",
      "execution_count": null,
      "metadata": {
        "id": "OEwlkJcX2hkk",
        "outputId": "86026e9b-ce6a-4d57-c20a-c63690002a3a"
      },
      "outputs": [
        {
          "name": "stdout",
          "output_type": "stream",
          "text": [
            "Shape: (12860, 2)\n"
          ]
        }
      ],
      "source": [
        "df = pd.read_csv('data/bbc_news.csv')\n",
        "print(f\"Shape: {df.shape}\")"
      ]
    },
    {
      "cell_type": "code",
      "execution_count": null,
      "metadata": {
        "id": "Y6nO5_1P2hkm"
      },
      "outputs": [],
      "source": [
        "regex = re.compile(\"[\\w:=!\\)\\(\\%]+\")\n",
        "stopword_set = set(stopwords.words('english'))\n",
        "stem = Mystem()\n",
        "\n",
        "def words_only(text, regex=regex):\n",
        "    return \" \".join(regex.findall(text))\n",
        "\n",
        "def remove_stopwords(text, stopword_set=stopword_set):\n",
        "    try:\n",
        "        return \" \".join([token for token in text.split() if not token in stopword_set])\n",
        "    except:\n",
        "        return \"\"\n",
        "\n",
        "def lemmatize(text, stem=stem):\n",
        "    try:\n",
        "        return \"\".join(stem.lemmatize(text)).strip()\n",
        "    except:\n",
        "        return \" \""
      ]
    },
    {
      "cell_type": "code",
      "execution_count": null,
      "metadata": {
        "id": "hZmobFBw2hkm",
        "outputId": "f83b792d-eb05-41c9-817e-add05f8d6cfc"
      },
      "outputs": [
        {
          "name": "stdout",
          "output_type": "stream",
          "text": [
            "Words_only completed.\n",
            "Remove_stopwords completed.\n",
            "Lemmatize completed.\n"
          ]
        }
      ],
      "source": [
        "df.news_data = df.news_data.str.lower()\n",
        "\n",
        "df.news_data = df.news_data.apply(words_only)\n",
        "print('Words_only completed.')\n",
        "\n",
        "df.news_data = df.news_data.apply(remove_stopwords)\n",
        "print('Remove_stopwords completed.')\n",
        "\n",
        "df.news_data = df.news_data.apply(lemmatize)\n",
        "print('Lemmatize completed.')"
      ]
    },
    {
      "cell_type": "code",
      "execution_count": null,
      "metadata": {
        "id": "-GKU87M32hkn",
        "outputId": "eccab458-024e-40c4-d730-7bae9f02fcaa"
      },
      "outputs": [
        {
          "data": {
            "text/html": [
              "<div>\n",
              "<style scoped>\n",
              "    .dataframe tbody tr th:only-of-type {\n",
              "        vertical-align: middle;\n",
              "    }\n",
              "\n",
              "    .dataframe tbody tr th {\n",
              "        vertical-align: top;\n",
              "    }\n",
              "\n",
              "    .dataframe thead th {\n",
              "        text-align: right;\n",
              "    }\n",
              "</style>\n",
              "<table border=\"1\" class=\"dataframe\">\n",
              "  <thead>\n",
              "    <tr style=\"text-align: right;\">\n",
              "      <th></th>\n",
              "      <th>news_data</th>\n",
              "      <th>class_label</th>\n",
              "    </tr>\n",
              "  </thead>\n",
              "  <tbody>\n",
              "    <tr>\n",
              "      <th>6680</th>\n",
              "      <td>bbc steer away demonising ex downing street me...</td>\n",
              "      <td>politics</td>\n",
              "    </tr>\n",
              "    <tr>\n",
              "      <th>3517</th>\n",
              "      <td>regard essential celebration continental talen...</td>\n",
              "      <td>entertainment</td>\n",
              "    </tr>\n",
              "    <tr>\n",
              "      <th>6682</th>\n",
              "      <td>affair prompted resignation bbc chairman gavyn...</td>\n",
              "      <td>politics</td>\n",
              "    </tr>\n",
              "    <tr>\n",
              "      <th>8881</th>\n",
              "      <td>premiership leaders chelsea gunners endured 2 ...</td>\n",
              "      <td>sport</td>\n",
              "    </tr>\n",
              "    <tr>\n",
              "      <th>2385</th>\n",
              "      <td>us retail sales surge december</td>\n",
              "      <td>business</td>\n",
              "    </tr>\n",
              "  </tbody>\n",
              "</table>\n",
              "</div>"
            ],
            "text/plain": [
              "                                              news_data    class_label\n",
              "6680  bbc steer away demonising ex downing street me...       politics\n",
              "3517  regard essential celebration continental talen...  entertainment\n",
              "6682  affair prompted resignation bbc chairman gavyn...       politics\n",
              "8881  premiership leaders chelsea gunners endured 2 ...          sport\n",
              "2385                     us retail sales surge december       business"
            ]
          },
          "execution_count": 6,
          "metadata": {},
          "output_type": "execute_result"
        }
      ],
      "source": [
        "df.sample(5)"
      ]
    },
    {
      "cell_type": "markdown",
      "metadata": {
        "id": "MReuuq4k2hkn"
      },
      "source": [
        "Data preparation"
      ]
    },
    {
      "cell_type": "code",
      "execution_count": null,
      "metadata": {
        "id": "Tn5q-voA2hko"
      },
      "outputs": [],
      "source": [
        "# Encode class labels\n",
        "enc = LabelEncoder()\n",
        "df.class_label = enc.fit_transform(df.class_label)\n",
        "labels = list(enc.classes_)"
      ]
    },
    {
      "cell_type": "code",
      "execution_count": null,
      "metadata": {
        "id": "VGcuX8nK2hko",
        "outputId": "d576c667-38d7-40a2-f0b4-9e3460a703b7"
      },
      "outputs": [
        {
          "name": "stdout",
          "output_type": "stream",
          "text": [
            "Train examples: 9002\n",
            "Test examples: 3858\n"
          ]
        }
      ],
      "source": [
        "X_train, X_test, y_train, y_test = train_test_split(df.news_data, df.class_label,\n",
        "                                                    test_size=0.3, shuffle=True,\n",
        "                                                    random_state=42, stratify=df.class_label)\n",
        "\n",
        "print (\"Train examples: %s\" % len(y_train))\n",
        "print (\"Test examples: %s\" % len(y_test))"
      ]
    },
    {
      "cell_type": "code",
      "execution_count": null,
      "metadata": {
        "id": "pLOemggF2hko"
      },
      "outputs": [],
      "source": [
        "vectorizer = TfidfVectorizer(analyzer='word', ngram_range=(1, 1))\n",
        "\n",
        "tfidf = vectorizer.fit(X_train)\n",
        "X_train_v = vectorizer.transform(X_train)\n",
        "X_test_v = vectorizer.transform(X_test)"
      ]
    },
    {
      "cell_type": "markdown",
      "metadata": {
        "id": "N-rE-i8b2hkp"
      },
      "source": [
        "Random Forest Classifier"
      ]
    },
    {
      "cell_type": "code",
      "execution_count": null,
      "metadata": {
        "id": "43JgQc542hkp"
      },
      "outputs": [],
      "source": [
        "model = RandomForestClassifier(n_estimators=100,\n",
        "                               criterion='entropy',\n",
        "                               random_state=42)"
      ]
    },
    {
      "cell_type": "code",
      "execution_count": null,
      "metadata": {
        "id": "fB5M5SM32hkp"
      },
      "outputs": [],
      "source": [
        "def compute_metrics(y_test, pred):\n",
        "    print(\"Precision: {:.2f}\".format(precision_score(y_test, pred, average='macro')))\n",
        "    print(\"Recall: {:.2f}\".format(recall_score(y_test, pred, average='macro')))\n",
        "    print(\"F1-measure: {:.2f}\".format(f1_score(y_test, pred, average='macro')))\n",
        "    print(\"Accuracy: {:.2f}\".format(accuracy_score(y_test, pred)))"
      ]
    },
    {
      "cell_type": "code",
      "execution_count": null,
      "metadata": {
        "id": "BPnM2kGe2hkp",
        "outputId": "4d3d2cc9-b0bb-47f7-f8d2-be07445f6ecd"
      },
      "outputs": [
        {
          "name": "stdout",
          "output_type": "stream",
          "text": [
            "Precision: 0.89\n",
            "Recall: 0.88\n",
            "F1-measure: 0.89\n",
            "Accuracy: 0.89\n",
            "              precision    recall  f1-score   support\n",
            "\n",
            "           0       0.90      0.85      0.87       806\n",
            "           1       0.93      0.83      0.88       632\n",
            "           2       0.88      0.89      0.88       804\n",
            "           3       0.83      0.97      0.89       846\n",
            "           4       0.93      0.89      0.91       770\n",
            "\n",
            "    accuracy                           0.89      3858\n",
            "   macro avg       0.89      0.88      0.89      3858\n",
            "weighted avg       0.89      0.89      0.89      3858\n",
            "\n"
          ]
        },
        {
          "data": {
            "image/png": "[encoded data removed]",
            "text/plain": [
              "<Figure size 432x288 with 1 Axes>"
            ]
          },
          "metadata": {
            "needs_background": "light"
          },
          "output_type": "display_data"
        }
      ],
      "source": [
        "model.fit(X_train_v, y_train)\n",
        "pred = model.predict(X_test_v)\n",
        "\n",
        "compute_metrics(y_test, pred)\n",
        "print(classification_report(y_test, pred))\n",
        "\n",
        "sns.heatmap(data=confusion_matrix(y_test, pred), annot=True, fmt=\"d\",\n",
        "                                  cbar=False, xticklabels=labels,\n",
        "                                  yticklabels=labels)\n",
        "plt.title(\"Confusion matrix\")\n",
        "plt.show()"
      ]
    },
    {
      "cell_type": "code",
      "execution_count": null,
      "metadata": {
        "id": "ZHnHh3_S2hkq"
      },
      "outputs": [],
      "source": [
        "# Save\n",
        "def save_model(model, path_folder: str, file_name: str):\n",
        "    path = Path(path_folder)\n",
        "    if not os.path.isdir(path):\n",
        "        os.makedirs (path)\n",
        "    pickle.dump(model, open(path / file_name, \"wb\"))\n",
        "    return None"
      ]
    },
    {
      "cell_type": "code",
      "execution_count": null,
      "metadata": {
        "id": "JVbnPcAD2hkq"
      },
      "outputs": [],
      "source": [
        "path = Path(\"outputs/randomForest\")\n",
        "\n",
        "# Label Encoder\n",
        "save_model(enc, path, \"labels_encoder.pk\")\n",
        "\n",
        "# TDidfVectorizer\n",
        "save_model(tfidf, path, \"tfidf.pk\")\n",
        "save_model(X_train_v, path, \"train_features.pk\")\n",
        "save_model(X_test_v, path, \"test_features.pk\")\n",
        "\n",
        "# RF Model\n",
        "save_model(model, path, \"random_forest.pk\")"
      ]
    },
    {
      "cell_type": "code",
      "execution_count": null,
      "metadata": {
        "id": "oAkhHFKv2hkr"
      },
      "outputs": [],
      "source": [
        "news = \"IBM to split into two as it reinvents itself. The move is an attempt to shift its\\\n",
        "        focus to higher-margin businesses like cloud computing and artificial intelligence.\",\\\n",
        "        \"Roger Federer: 20-time Grand Slam champion retires after Laver Cup loss.\\\n",
        "        The 41-year-old received a long ovation after walking off court for the final time as\\\n",
        "        he retired as a professional.\",\\\n",
        "        \"Liz Truss admits disruption after tax cut pledges.\",\\\n",
        "        \"Seen as the most promising next-generation solar cell, this technology, called perovskite,\\\n",
        "        is exactly what Japanese start-up Enecoat Technologies is trying to develop.\"\n",
        "\n",
        "true_label = ['business', 'sport', 'politics', 'tech']"
      ]
    },
    {
      "cell_type": "code",
      "execution_count": null,
      "metadata": {
        "id": "lXQ2zd2W2hkr"
      },
      "outputs": [],
      "source": [
        "def predict_text(text, true_labels):\n",
        "    encoder = pickle.load(open(path / \"labels_encoder.pk\", \"rb\"))\n",
        "    tfidf_vec = pickle.load(open(path / \"tfidf.pk\", \"rb\"))\n",
        "    model_load = pickle.load(open(path / \"random_forest.pk\", \"rb\"))\n",
        "    labels = list(encoder.classes_)\n",
        "    y_true = encoder.transform(true_labels)\n",
        "    text_vec = tfidf_vec.transform(text)\n",
        "    pred = model.predict(text_vec)\n",
        "    \n",
        "    print(\"Accuracy: {:.2f}\".format(accuracy_score(y_true, pred)))\n",
        "    print(\"True label: \", [labels[y_true[i]] for i, _ in enumerate(true_labels)])\n",
        "    print(\"Predicted label: \", [labels[pred[i]] for i, _ in enumerate(pred)])"
      ]
    },
    {
      "cell_type": "code",
      "execution_count": null,
      "metadata": {
        "id": "kKwino8t2hkr",
        "outputId": "825912aa-d763-40a2-dfa0-624ee678689c"
      },
      "outputs": [
        {
          "name": "stdout",
          "output_type": "stream",
          "text": [
            "Accuracy: 0.75\n",
            "True label:  ['business', 'sport', 'politics', 'tech']\n",
            "Predicted label:  ['sport', 'sport', 'politics', 'tech']\n"
          ]
        }
      ],
      "source": [
        "predict_text(news, true_label)"
      ]
    },
    {
      "cell_type": "markdown",
      "metadata": {
        "id": "HtKBUlG02hks"
      },
      "source": [
        "Fine-Tuning: DistillBert"
      ]
    },
    {
      "cell_type": "code",
      "execution_count": null,
      "metadata": {
        "id": "tS2JDyf_2hks"
      },
      "outputs": [],
      "source": [
        "# !pip install datasets\n",
        "# !pip install transformers"
      ]
    },
    {
      "cell_type": "code",
      "execution_count": 3,
      "metadata": {
        "id": "ZVhwnGsR2hks"
      },
      "outputs": [],
      "source": [
        "import torch\n",
        "from datasets import load_dataset, DatasetDict\n",
        "from torch.utils.data import DataLoader\n",
        "from transformers import DataCollatorWithPadding\n",
        "from transformers import DistilBertTokenizerFast\n",
        "from transformers import DistilBertForSequenceClassification\n",
        "from transformers import TrainingArguments\n",
        "from transformers import Trainer"
      ]
    },
    {
      "cell_type": "code",
      "execution_count": null,
      "metadata": {
        "id": "uLWKRgAQ215y"
      },
      "outputs": [],
      "source": [
        "from google.colab import drive\n",
        "drive.mount('/content/drive')"
      ]
    },
    {
      "cell_type": "code",
      "execution_count": 5,
      "metadata": {
        "id": "HdXwCew82hks"
      },
      "outputs": [],
      "source": [
        "batch_size = 32\n",
        "device = \"cuda\" if torch.cuda.is_available() else \"cpu\""
      ]
    },
    {
      "cell_type": "code",
      "execution_count": null,
      "metadata": {
        "id": "-TkR8t3n2hkt"
      },
      "outputs": [],
      "source": [
        "dataset = load_dataset(\"csv\", data_files=\"data/bbc_news.csv\")"
      ]
    },
    {
      "cell_type": "code",
      "execution_count": 7,
      "metadata": {
        "colab": {
          "base_uri": "https://localhost:8080/",
          "height": 49,
          "referenced_widgets": [
            "372af559675f4684a00432af9b5ac2c4",
            "65904e52768445df915481125dd1e7f7",
            "c5d445f43884415ba255fe5fc0af89e4",
            "e1f3047d56f94f0181c69c3649437235",
            "edabcd1ca0184424b0e00a005b205f74",
            "5e0911988ed64d2eb1596daeb02c8570",
            "9b9ba0908dea45d9aeaabc76f2fb16f4",
            "77d27d9070634815aaf656e57d8e62f4",
            "6e3aac36f810416fb9ce72a8e2b6216a",
            "15f5e744d80a494c8448fce76da303c6",
            "736b3e2d94ce47739ff174c86732b316"
          ]
        },
        "id": "wT-1uZrE2hkt",
        "outputId": "0c1afacd-6f2f-4e6a-a35e-e51786b1a668"
      },
      "outputs": [
        {
          "data": {
            "application/vnd.jupyter.widget-view+json": {
              "model_id": "372af559675f4684a00432af9b5ac2c4",
              "version_major": 2,
              "version_minor": 0
            },
            "text/plain": [
              "  0%|          | 0/12860 [00:00<?, ?ex/s]"
            ]
          },
          "metadata": {},
          "output_type": "display_data"
        }
      ],
      "source": [
        "# casting class labels to integers\n",
        "labels_list = dataset['train'].unique('class_label')\n",
        "id2label = {n: i for n, i in enumerate(labels_list)}\n",
        "label2id = {i: n for n, i in enumerate(labels_list)}\n",
        "\n",
        "def cast_label(row):\n",
        "    val = [str(k) for k, v in id2label.items() if v == row['class_label']]\n",
        "    return {'labels': int(\"\".join(val))}\n",
        "\n",
        "dataset = dataset.map(cast_label)\n",
        "dataset = dataset.remove_columns(\"class_label\")"
      ]
    },
    {
      "cell_type": "code",
      "execution_count": 8,
      "metadata": {
        "colab": {
          "base_uri": "https://localhost:8080/"
        },
        "id": "A21sqYVy2hkt",
        "outputId": "4573daa5-8216-47bc-bc72-467982b545d7"
      },
      "outputs": [
        {
          "name": "stdout",
          "output_type": "stream",
          "text": [
            "Shapes:\n",
            "Train: (10288, 2)\n",
            "Validation:(1028, 2)\n",
            "Test:(1544, 2)\n"
          ]
        }
      ],
      "source": [
        "train_test_dataset = dataset[\"train\"].train_test_split(test_size=0.2, seed=42)\n",
        "test_valid = train_test_dataset[\"test\"].train_test_split(test_size=0.6, seed=42)\n",
        "\n",
        "# Gather to have a single DatasetDict\n",
        "split_dataset = DatasetDict({'train': train_test_dataset['train'],\n",
        "                             'test': test_valid['test'],\n",
        "                             'valid': test_valid['train']})\n",
        "\n",
        "print('Shapes:')\n",
        "print('Train: {}'.format(split_dataset['train'].shape))\n",
        "print('Validation:{}'.format(split_dataset['valid'].shape))\n",
        "print('Test:{}'.format(split_dataset['test'].shape))"
      ]
    },
    {
      "cell_type": "code",
      "execution_count": 9,
      "metadata": {
        "colab": {
          "base_uri": "https://localhost:8080/"
        },
        "id": "4lC8Mb-i2hku",
        "outputId": "c68dbeaa-31d9-4e47-e141-282f2af61d71"
      },
      "outputs": [
        {
          "data": {
            "text/plain": [
              "{'news_data': ['Amnesty International UK also questioned whether the decisions had been based on \"torture evidence\" obtained at Guantanamo Bay. \"Furthermore, we believe there should be an investigation into the role played by the UK in the detention of UK residents and nationals and possibly many others at Guantanamo Bay,\" said director Kate Allen. The men\\'s solicitor, Louise Christian, has raised questions about whether the evidence was gathered through torture. But the Pentagon told BBC News US policy \"condemns and prohibits\" torture and said there was no evidence that any British detainee was tortured or abused. Mr Abbasi, 23, from Croydon, south London, was taken to Guantanamo Bay after being captured in Afghanistan in 2001. Mr Mubanga, 29, from north London, was originally detained in Zambia.',\n",
              "  'The character generator is very detailed and a few minutes of tweaking and adjusting will create a unique personality to unleash on the game.',\n",
              "  'Bloglines has become popular because it lets users build a list of the blogs they want to follow without having to visit each journal site individually. To do this it makes use of a technology known as Really Simple Syndication (RSS) that many blogs have adopted to let other sites know when new entries are made on their journals. The acquisition follows similar moves by other search sites. Google acquired Pyra Labs, makers of the Blogger software, in 2003. In 2004 MSN introduced its own blog system and Yahoo has tweaked its technology to do a better job of handling blog entries. Jim Lanzone, vice president of search properties at Ask Jeeves in the US, said it did not acquire Bloglines just to get a foothold in the blog publishing world. He said Ask Jeeves was much more interested in helping people find information they were looking for rather than helping them write it.',\n",
              "  'The separate legal fight with Think Secret has yet to be resolved. In the ruling handed down this week by Santa Clara County Superior Court Judge James Kleinberg, Apple can now get its hands on e-mail records from the bloggers\\' net providers. In making his ruling, Judge Kleinberg said that laws covering the divulging of trade secrets outweighed considerations of public interest. California has so-called \"shield\" laws which protect journalists from prosecution if what they are writing about can be shown to be in the public interest. The Judge wrote: \"...it is not surprising that hundreds of thousands of \\'hits\\' on a website about Apple have and will happen. But an interested public is not the same as the public interest\". Judge Kleinberg said the question of whether the bloggers were journalists or not did not apply because laws governing the right to keep trade secrets confidential covered journalists, too. The Electronic Frontier Foundation, which is acting as legal counsel for Power Page and Apple Insider, said the ruling had potentially wide implications. \"Anyone who reports on companies or the trade press should be concerned about this ruling,\" said EFF lawyer Kurt Opsahl. Mr Opsahl said the EFF was planning to appeal against the ruling because the bloggers were journalists and US federal laws stop net firms handing over copies of e-mail messages if the owner of that account does not give their consent.'],\n",
              " 'labels': [2, 4, 4, 4]}"
            ]
          },
          "execution_count": 9,
          "metadata": {},
          "output_type": "execute_result"
        }
      ],
      "source": [
        "data_sample = split_dataset['train'].shuffle().select(range(1000))\n",
        "data_sample[:3]"
      ]
    },
    {
      "cell_type": "code",
      "execution_count": null,
      "metadata": {
        "id": "HVQPC2KW2hku"
      },
      "outputs": [],
      "source": [
        "# Tokenization\n",
        "checkpoint = \"distilbert-base-uncased\"\n",
        "tokenizer = DistilBertTokenizerFast.from_pretrained(checkpoint)\n",
        "\n",
        "train_d = split_dataset['train'].map(lambda e: tokenizer(e['news_data'], truncation=True), batched=True)\n",
        "val_d = split_dataset['valid'].map(lambda e: tokenizer(e['news_data'], truncation=True), batched=True)\n",
        "test_d = split_dataset['test'].map(lambda e: tokenizer(e['news_data'], truncation=True), batched=True)"
      ]
    },
    {
      "cell_type": "code",
      "execution_count": 11,
      "metadata": {
        "colab": {
          "base_uri": "https://localhost:8080/"
        },
        "id": "XP_d87zP2hku",
        "outputId": "071e7555-548d-423a-8db0-970081579647"
      },
      "outputs": [
        {
          "name": "stdout",
          "output_type": "stream",
          "text": [
            "{'labels': tensor(4), 'input_ids': tensor([  101,  2028,  2154,  2101,  2139, 10093, 13910,  2527, 10354,  1010,\n",
            "         1037,  3679,  7598,  3780,  1010,  2150,  2739,  2006,  2049,  2219,\n",
            "         2043,  2009,  2405,  1037,  3861,  2579,  2007,  1037,  4684,  3042,\n",
            "         1997,  2720,  3158, 26603,  1005,  1055,  2303,  5312,  2044,  2002,\n",
            "         2001,  2730,  1012,  1000,  2023,  3861,  2001,  1996,  2466,  1000,\n",
            "         1010,  2056,  2139, 10093, 13910,  2527, 10354,  1005,  1055,  3746,\n",
            "         3559,  1010,  2848,  8040,  6806,  5643,  2078,  1012,  2060,  6115,\n",
            "         1997,  2107,  3861,  3042,  5198, 24740,  2739,  2824,  1010,  2421,\n",
            "         1024,   102]), 'attention_mask': tensor([1, 1, 1, 1, 1, 1, 1, 1, 1, 1, 1, 1, 1, 1, 1, 1, 1, 1, 1, 1, 1, 1, 1, 1,\n",
            "        1, 1, 1, 1, 1, 1, 1, 1, 1, 1, 1, 1, 1, 1, 1, 1, 1, 1, 1, 1, 1, 1, 1, 1,\n",
            "        1, 1, 1, 1, 1, 1, 1, 1, 1, 1, 1, 1, 1, 1, 1, 1, 1, 1, 1, 1, 1, 1, 1, 1,\n",
            "        1, 1, 1, 1, 1, 1, 1, 1, 1, 1])}\n"
          ]
        }
      ],
      "source": [
        "# Eliminate the news_data column and adjust the type\n",
        "train_d.set_format(type='torch', columns=['input_ids', 'attention_mask', 'labels'])\n",
        "val_d.set_format(type='torch', columns=['input_ids', 'attention_mask', 'labels'])\n",
        "test_d.set_format(type='torch', columns=['input_ids', 'attention_mask', 'labels'])\n",
        "\n",
        "print(train_d[0])"
      ]
    },
    {
      "cell_type": "code",
      "execution_count": 12,
      "metadata": {
        "id": "ZSZ-NVVO2hku"
      },
      "outputs": [],
      "source": [
        "# Dynamic padding\n",
        "data_collator = DataCollatorWithPadding(tokenizer=tokenizer)\n",
        "train_dataloader = DataLoader(train_d, batch_size=batch_size, shuffle=True, collate_fn=data_collator)\n",
        "val_dataloader = DataLoader(val_d, batch_size=batch_size, collate_fn=data_collator)\n",
        "test_dataloader = DataLoader(test_d, batch_size=batch_size, collate_fn=data_collator)"
      ]
    },
    {
      "cell_type": "code",
      "execution_count": 13,
      "metadata": {
        "colab": {
          "base_uri": "https://localhost:8080/"
        },
        "id": "_Tb5ufbP2hkv",
        "outputId": "daef9778-5d95-41c9-beac-dfebf53234ab"
      },
      "outputs": [
        {
          "name": "stderr",
          "output_type": "stream",
          "text": [
            "You're using a DistilBertTokenizerFast tokenizer. Please note that with a fast tokenizer, using the `__call__` method is faster than using a method to encode the text followed by a call to the `pad` method to get a padded encoding.\n"
          ]
        },
        {
          "name": "stdout",
          "output_type": "stream",
          "text": [
            "torch.Size([32, 359])\n",
            "torch.Size([32, 300])\n",
            "torch.Size([32, 201])\n",
            "torch.Size([32, 349])\n",
            "torch.Size([32, 291])\n"
          ]
        }
      ],
      "source": [
        "for step, batch in enumerate(test_dataloader):\n",
        "    print(batch['input_ids'].shape)\n",
        "    if step > 3:\n",
        "        break\n",
        "\n",
        "# for batch in train_dataloader:\n",
        "#    break\n",
        "# {k: v.shape for k, v in batch.items()}"
      ]
    },
    {
      "cell_type": "code",
      "execution_count": 14,
      "metadata": {
        "colab": {
          "base_uri": "https://localhost:8080/",
          "height": 156,
          "referenced_widgets": [
            "07aa31aabbcf43a4b92b17f4b8dd8693",
            "e05b6ffd3ce04a1f83e26567946981ab",
            "e0bf21aa29d54276b191a0132450a804",
            "b76e8c8c510c4a4fb903200a720df3c4",
            "c19931b1e99348d6b77ffa5a009c6b42",
            "60a74ccad6bf4b16b5dd105917816711",
            "9cd65022157a4efb8c5b3e3582601000",
            "56e793df8bab4502878e375674e434d4",
            "8baa8dc5e2ef42a1b54ccda5db1c1997",
            "fd52b7c3086447afa59dac773671c293",
            "5a1b1a357abd41f38fb81a861880cf5a"
          ]
        },
        "id": "3YKFpqpd2hkv",
        "outputId": "b5eda1dc-5973-4d5a-a5a4-a0d05c72de6a"
      },
      "outputs": [
        {
          "data": {
            "application/vnd.jupyter.widget-view+json": {
              "model_id": "07aa31aabbcf43a4b92b17f4b8dd8693",
              "version_major": 2,
              "version_minor": 0
            },
            "text/plain": [
              "Downloading:   0%|          | 0.00/268M [00:00<?, ?B/s]"
            ]
          },
          "metadata": {},
          "output_type": "display_data"
        },
        {
          "name": "stderr",
          "output_type": "stream",
          "text": [
            "Some weights of the model checkpoint at distilbert-base-uncased were not used when initializing DistilBertForSequenceClassification: ['vocab_projector.weight', 'vocab_layer_norm.weight', 'vocab_projector.bias', 'vocab_transform.weight', 'vocab_layer_norm.bias', 'vocab_transform.bias']\n",
            "- This IS expected if you are initializing DistilBertForSequenceClassification from the checkpoint of a model trained on another task or with another architecture (e.g. initializing a BertForSequenceClassification model from a BertForPreTraining model).\n",
            "- This IS NOT expected if you are initializing DistilBertForSequenceClassification from the checkpoint of a model that you expect to be exactly identical (initializing a BertForSequenceClassification model from a BertForSequenceClassification model).\n",
            "Some weights of DistilBertForSequenceClassification were not initialized from the model checkpoint at distilbert-base-uncased and are newly initialized: ['pre_classifier.weight', 'pre_classifier.bias', 'classifier.bias', 'classifier.weight']\n",
            "You should probably TRAIN this model on a down-stream task to be able to use it for predictions and inference.\n"
          ]
        }
      ],
      "source": [
        "model = DistilBertForSequenceClassification.from_pretrained(checkpoint,\n",
        "                       id2label=id2label, label2id=label2id).to(device)"
      ]
    },
    {
      "cell_type": "code",
      "execution_count": 15,
      "metadata": {
        "id": "sc7l3RVD2hkv"
      },
      "outputs": [],
      "source": [
        "training_args = TrainingArguments(\n",
        "    output_dir='outputs/output',\n",
        "    do_train=True,\n",
        "    do_eval=True,\n",
        "    num_train_epochs=3,\n",
        "    per_device_train_batch_size=batch_size,\n",
        "    per_device_eval_batch_size=batch_size,\n",
        "    warmup_steps=100,\n",
        "    weight_decay=0.01,\n",
        "    logging_strategy='steps',\n",
        "    logging_dir='outputs/logs',\n",
        "    logging_steps=100,\n",
        "    evaluation_strategy= 'steps',\n",
        "    eval_steps=100\n",
        ")"
      ]
    },
    {
      "cell_type": "code",
      "execution_count": 16,
      "metadata": {
        "id": "HiGrxLTK2hkv"
      },
      "outputs": [],
      "source": [
        "def compute_metrics(pred):\n",
        "    labels = pred.label_ids\n",
        "    preds = pred.predictions.argmax(-1)\n",
        "    Precision, Recall, f1, _ = precision_recall_fscore_support(labels, preds, average='macro')\n",
        "    acc = accuracy_score(labels, preds)\n",
        "    return {\n",
        "        'Accuracy': acc,\n",
        "        'F1': f1,\n",
        "        'Precision': Precision,\n",
        "        'Recall': Recall\n",
        "    }\n",
        "\n",
        "\n",
        "trainer = Trainer(\n",
        "    model=model,\n",
        "    args=training_args,\n",
        "    train_dataset=train_d,\n",
        "    eval_dataset=val_d,\n",
        "    compute_metrics=compute_metrics,\n",
        "    data_collator=data_collator\n",
        ")"
      ]
    },
    {
      "cell_type": "code",
      "execution_count": 17,
      "metadata": {
        "colab": {
          "base_uri": "https://localhost:8080/",
          "height": 1000
        },
        "id": "43-v7pv02hkw",
        "outputId": "9bb50257-47ae-4b0c-d922-a559ff54f24c"
      },
      "outputs": [
        {
          "name": "stderr",
          "output_type": "stream",
          "text": [
            "The following columns in the training set don't have a corresponding argument in `DistilBertForSequenceClassification.forward` and have been ignored: news_data. If news_data are not expected by `DistilBertForSequenceClassification.forward`,  you can safely ignore this message.\n",
            "***** Running training *****\n",
            "  Num examples = 10288\n",
            "  Num Epochs = 3\n",
            "  Instantaneous batch size per device = 32\n",
            "  Total train batch size (w. parallel, distributed & accumulation) = 32\n",
            "  Gradient Accumulation steps = 1\n",
            "  Total optimization steps = 966\n"
          ]
        },
        {
          "data": {
            "text/html": [
              "\n",
              "    <div>\n",
              "      \n",
              "      <progress value='966' max='966' style='width:300px; height:20px; vertical-align: middle;'></progress>\n",
              "      [966/966 13:51, Epoch 3/3]\n",
              "    </div>\n",
              "    <table border=\"1\" class=\"dataframe\">\n",
              "  <thead>\n",
              " <tr style=\"text-align: left;\">\n",
              "      <th>Step</th>\n",
              "      <th>Training Loss</th>\n",
              "      <th>Validation Loss</th>\n",
              "      <th>Accuracy</th>\n",
              "      <th>F1</th>\n",
              "      <th>Precision</th>\n",
              "      <th>Recall</th>\n",
              "    </tr>\n",
              "  </thead>\n",
              "  <tbody>\n",
              "    <tr>\n",
              "      <td>100</td>\n",
              "      <td>0.965600</td>\n",
              "      <td>0.256429</td>\n",
              "      <td>0.928988</td>\n",
              "      <td>0.930827</td>\n",
              "      <td>0.933214</td>\n",
              "      <td>0.930905</td>\n",
              "    </tr>\n",
              "    <tr>\n",
              "      <td>200</td>\n",
              "      <td>0.229400</td>\n",
              "      <td>0.180914</td>\n",
              "      <td>0.945525</td>\n",
              "      <td>0.945993</td>\n",
              "      <td>0.947167</td>\n",
              "      <td>0.945878</td>\n",
              "    </tr>\n",
              "    <tr>\n",
              "      <td>300</td>\n",
              "      <td>0.217300</td>\n",
              "      <td>0.123315</td>\n",
              "      <td>0.959144</td>\n",
              "      <td>0.958755</td>\n",
              "      <td>0.959701</td>\n",
              "      <td>0.958161</td>\n",
              "    </tr>\n",
              "    <tr>\n",
              "      <td>400</td>\n",
              "      <td>0.111800</td>\n",
              "      <td>0.109740</td>\n",
              "      <td>0.964981</td>\n",
              "      <td>0.964768</td>\n",
              "      <td>0.965282</td>\n",
              "      <td>0.964677</td>\n",
              "    </tr>\n",
              "    <tr>\n",
              "      <td>500</td>\n",
              "      <td>0.083600</td>\n",
              "      <td>0.137250</td>\n",
              "      <td>0.967899</td>\n",
              "      <td>0.967470</td>\n",
              "      <td>0.967367</td>\n",
              "      <td>0.967890</td>\n",
              "    </tr>\n",
              "    <tr>\n",
              "      <td>600</td>\n",
              "      <td>0.089200</td>\n",
              "      <td>0.116259</td>\n",
              "      <td>0.969844</td>\n",
              "      <td>0.969828</td>\n",
              "      <td>0.970470</td>\n",
              "      <td>0.969697</td>\n",
              "    </tr>\n",
              "    <tr>\n",
              "      <td>700</td>\n",
              "      <td>0.070000</td>\n",
              "      <td>0.108492</td>\n",
              "      <td>0.973735</td>\n",
              "      <td>0.973885</td>\n",
              "      <td>0.974673</td>\n",
              "      <td>0.973254</td>\n",
              "    </tr>\n",
              "    <tr>\n",
              "      <td>800</td>\n",
              "      <td>0.028700</td>\n",
              "      <td>0.120482</td>\n",
              "      <td>0.972763</td>\n",
              "      <td>0.972628</td>\n",
              "      <td>0.972787</td>\n",
              "      <td>0.972652</td>\n",
              "    </tr>\n",
              "    <tr>\n",
              "      <td>900</td>\n",
              "      <td>0.032700</td>\n",
              "      <td>0.108853</td>\n",
              "      <td>0.974708</td>\n",
              "      <td>0.974745</td>\n",
              "      <td>0.975264</td>\n",
              "      <td>0.974429</td>\n",
              "    </tr>\n",
              "  </tbody>\n",
              "</table><p>"
            ],
            "text/plain": [
              "<IPython.core.display.HTML object>"
            ]
          },
          "metadata": {},
          "output_type": "display_data"
        },
        {
          "name": "stderr",
          "output_type": "stream",
          "text": [
            "The following columns in the evaluation set don't have a corresponding argument in `DistilBertForSequenceClassification.forward` and have been ignored: news_data. If news_data are not expected by `DistilBertForSequenceClassification.forward`,  you can safely ignore this message.\n",
            "***** Running Evaluation *****\n",
            "  Num examples = 1028\n",
            "  Batch size = 32\n",
            "The following columns in the evaluation set don't have a corresponding argument in `DistilBertForSequenceClassification.forward` and have been ignored: news_data. If news_data are not expected by `DistilBertForSequenceClassification.forward`,  you can safely ignore this message.\n",
            "***** Running Evaluation *****\n",
            "  Num examples = 1028\n",
            "  Batch size = 32\n",
            "The following columns in the evaluation set don't have a corresponding argument in `DistilBertForSequenceClassification.forward` and have been ignored: news_data. If news_data are not expected by `DistilBertForSequenceClassification.forward`,  you can safely ignore this message.\n",
            "***** Running Evaluation *****\n",
            "  Num examples = 1028\n",
            "  Batch size = 32\n",
            "The following columns in the evaluation set don't have a corresponding argument in `DistilBertForSequenceClassification.forward` and have been ignored: news_data. If news_data are not expected by `DistilBertForSequenceClassification.forward`,  you can safely ignore this message.\n",
            "***** Running Evaluation *****\n",
            "  Num examples = 1028\n",
            "  Batch size = 32\n",
            "The following columns in the evaluation set don't have a corresponding argument in `DistilBertForSequenceClassification.forward` and have been ignored: news_data. If news_data are not expected by `DistilBertForSequenceClassification.forward`,  you can safely ignore this message.\n",
            "***** Running Evaluation *****\n",
            "  Num examples = 1028\n",
            "  Batch size = 32\n",
            "Saving model checkpoint to outputs/output/checkpoint-500\n",
            "Configuration saved in outputs/output/checkpoint-500/config.json\n",
            "Model weights saved in outputs/output/checkpoint-500/pytorch_model.bin\n",
            "The following columns in the evaluation set don't have a corresponding argument in `DistilBertForSequenceClassification.forward` and have been ignored: news_data. If news_data are not expected by `DistilBertForSequenceClassification.forward`,  you can safely ignore this message.\n",
            "***** Running Evaluation *****\n",
            "  Num examples = 1028\n",
            "  Batch size = 32\n",
            "The following columns in the evaluation set don't have a corresponding argument in `DistilBertForSequenceClassification.forward` and have been ignored: news_data. If news_data are not expected by `DistilBertForSequenceClassification.forward`,  you can safely ignore this message.\n",
            "***** Running Evaluation *****\n",
            "  Num examples = 1028\n",
            "  Batch size = 32\n",
            "The following columns in the evaluation set don't have a corresponding argument in `DistilBertForSequenceClassification.forward` and have been ignored: news_data. If news_data are not expected by `DistilBertForSequenceClassification.forward`,  you can safely ignore this message.\n",
            "***** Running Evaluation *****\n",
            "  Num examples = 1028\n",
            "  Batch size = 32\n",
            "The following columns in the evaluation set don't have a corresponding argument in `DistilBertForSequenceClassification.forward` and have been ignored: news_data. If news_data are not expected by `DistilBertForSequenceClassification.forward`,  you can safely ignore this message.\n",
            "***** Running Evaluation *****\n",
            "  Num examples = 1028\n",
            "  Batch size = 32\n",
            "\n",
            "\n",
            "Training completed. Do not forget to share your model on huggingface.co/models =)\n",
            "\n",
            "\n"
          ]
        }
      ],
      "source": [
        "results = trainer.train()"
      ]
    },
    {
      "cell_type": "code",
      "execution_count": 18,
      "metadata": {
        "colab": {
          "base_uri": "https://localhost:8080/",
          "height": 392
        },
        "id": "tlDzvm9W2hkw",
        "outputId": "83ca386c-b430-4a5d-cdb2-dbde64730310"
      },
      "outputs": [
        {
          "name": "stderr",
          "output_type": "stream",
          "text": [
            "The following columns in the evaluation set don't have a corresponding argument in `DistilBertForSequenceClassification.forward` and have been ignored: news_data. If news_data are not expected by `DistilBertForSequenceClassification.forward`,  you can safely ignore this message.\n",
            "***** Running Evaluation *****\n",
            "  Num examples = 10288\n",
            "  Batch size = 32\n"
          ]
        },
        {
          "data": {
            "text/html": [
              "\n",
              "    <div>\n",
              "      \n",
              "      <progress value='404' max='322' style='width:300px; height:20px; vertical-align: middle;'></progress>\n",
              "      [322/322 01:58]\n",
              "    </div>\n",
              "    "
            ],
            "text/plain": [
              "<IPython.core.display.HTML object>"
            ]
          },
          "metadata": {},
          "output_type": "display_data"
        },
        {
          "name": "stderr",
          "output_type": "stream",
          "text": [
            "The following columns in the evaluation set don't have a corresponding argument in `DistilBertForSequenceClassification.forward` and have been ignored: news_data. If news_data are not expected by `DistilBertForSequenceClassification.forward`,  you can safely ignore this message.\n",
            "***** Running Evaluation *****\n",
            "  Num examples = 1028\n",
            "  Batch size = 32\n",
            "The following columns in the evaluation set don't have a corresponding argument in `DistilBertForSequenceClassification.forward` and have been ignored: news_data. If news_data are not expected by `DistilBertForSequenceClassification.forward`,  you can safely ignore this message.\n",
            "***** Running Evaluation *****\n",
            "  Num examples = 1544\n",
            "  Batch size = 32\n"
          ]
        },
        {
          "data": {
            "text/html": [
              "\n",
              "  <div id=\"df-fcd074b2-9b77-4e8b-bf16-8f59fe190527\">\n",
              "    <div class=\"colab-df-container\">\n",
              "      <div>\n",
              "<style scoped>\n",
              "    .dataframe tbody tr th:only-of-type {\n",
              "        vertical-align: middle;\n",
              "    }\n",
              "\n",
              "    .dataframe tbody tr th {\n",
              "        vertical-align: top;\n",
              "    }\n",
              "\n",
              "    .dataframe thead th {\n",
              "        text-align: right;\n",
              "    }\n",
              "</style>\n",
              "<table border=\"1\" class=\"dataframe\">\n",
              "  <thead>\n",
              "    <tr style=\"text-align: right;\">\n",
              "      <th></th>\n",
              "      <th>eval_loss</th>\n",
              "      <th>eval_Accuracy</th>\n",
              "      <th>eval_F1</th>\n",
              "      <th>eval_Precision</th>\n",
              "      <th>eval_Recall</th>\n",
              "    </tr>\n",
              "  </thead>\n",
              "  <tbody>\n",
              "    <tr>\n",
              "      <th>train</th>\n",
              "      <td>0.014283</td>\n",
              "      <td>0.996890</td>\n",
              "      <td>0.996809</td>\n",
              "      <td>0.996766</td>\n",
              "      <td>0.996853</td>\n",
              "    </tr>\n",
              "    <tr>\n",
              "      <th>val</th>\n",
              "      <td>0.109789</td>\n",
              "      <td>0.970817</td>\n",
              "      <td>0.970740</td>\n",
              "      <td>0.971255</td>\n",
              "      <td>0.970433</td>\n",
              "    </tr>\n",
              "    <tr>\n",
              "      <th>test</th>\n",
              "      <td>0.167660</td>\n",
              "      <td>0.957254</td>\n",
              "      <td>0.957065</td>\n",
              "      <td>0.957663</td>\n",
              "      <td>0.956975</td>\n",
              "    </tr>\n",
              "  </tbody>\n",
              "</table>\n",
              "</div>\n",
              "      <button class=\"colab-df-convert\" onclick=\"convertToInteractive('df-fcd074b2-9b77-4e8b-bf16-8f59fe190527')\"\n",
              "              title=\"Convert this dataframe to an interactive table.\"\n",
              "              style=\"display:none;\">\n",
              "        \n",
              "  <svg xmlns=\"http://www.w3.org/2000/svg\" height=\"24px\"viewBox=\"0 0 24 24\"\n",
              "       width=\"24px\">\n",
              "    <path d=\"M0 0h24v24H0V0z\" fill=\"none\"/>\n",
              "    <path d=\"M18.56 5.44l.94 2.06.94-2.06 2.06-.94-2.06-.94-.94-2.06-.94 2.06-2.06.94zm-11 1L8.5 8.5l.94-2.06 2.06-.94-2.06-.94L8.5 2.5l-.94 2.06-2.06.94zm10 10l.94 2.06.94-2.06 2.06-.94-2.06-.94-.94-2.06-.94 2.06-2.06.94z\"/><path d=\"M17.41 7.96l-1.37-1.37c-.4-.4-.92-.59-1.43-.59-.52 0-1.04.2-1.43.59L10.3 9.45l-7.72 7.72c-.78.78-.78 2.05 0 2.83L4 21.41c.39.39.9.59 1.41.59.51 0 1.02-.2 1.41-.59l7.78-7.78 2.81-2.81c.8-.78.8-2.07 0-2.86zM5.41 20L4 18.59l7.72-7.72 1.47 1.35L5.41 20z\"/>\n",
              "  </svg>\n",
              "      </button>\n",
              "      \n",
              "  <style>\n",
              "    .colab-df-container {\n",
              "      display:flex;\n",
              "      flex-wrap:wrap;\n",
              "      gap: 12px;\n",
              "    }\n",
              "\n",
              "    .colab-df-convert {\n",
              "      background-color: #E8F0FE;\n",
              "      border: none;\n",
              "      border-radius: 50%;\n",
              "      cursor: pointer;\n",
              "      display: none;\n",
              "      fill: #1967D2;\n",
              "      height: 32px;\n",
              "      padding: 0 0 0 0;\n",
              "      width: 32px;\n",
              "    }\n",
              "\n",
              "    .colab-df-convert:hover {\n",
              "      background-color: #E2EBFA;\n",
              "      box-shadow: 0px 1px 2px rgba(60, 64, 67, 0.3), 0px 1px 3px 1px rgba(60, 64, 67, 0.15);\n",
              "      fill: #174EA6;\n",
              "    }\n",
              "\n",
              "    [theme=dark] .colab-df-convert {\n",
              "      background-color: #3B4455;\n",
              "      fill: #D2E3FC;\n",
              "    }\n",
              "\n",
              "    [theme=dark] .colab-df-convert:hover {\n",
              "      background-color: #434B5C;\n",
              "      box-shadow: 0px 1px 3px 1px rgba(0, 0, 0, 0.15);\n",
              "      filter: drop-shadow(0px 1px 2px rgba(0, 0, 0, 0.3));\n",
              "      fill: #FFFFFF;\n",
              "    }\n",
              "  </style>\n",
              "\n",
              "      <script>\n",
              "        const buttonEl =\n",
              "          document.querySelector('#df-fcd074b2-9b77-4e8b-bf16-8f59fe190527 button.colab-df-convert');\n",
              "        buttonEl.style.display =\n",
              "          google.colab.kernel.accessAllowed ? 'block' : 'none';\n",
              "\n",
              "        async function convertToInteractive(key) {\n",
              "          const element = document.querySelector('#df-fcd074b2-9b77-4e8b-bf16-8f59fe190527');\n",
              "          const dataTable =\n",
              "            await google.colab.kernel.invokeFunction('convertToInteractive',\n",
              "                                                     [key], {});\n",
              "          if (!dataTable) return;\n",
              "\n",
              "          const docLinkHtml = 'Like what you see? Visit the ' +\n",
              "            '<a target=\"_blank\" href=https://colab.research.google.com/notebooks/data_table.ipynb>data table notebook</a>'\n",
              "            + ' to learn more about interactive tables.';\n",
              "          element.innerHTML = '';\n",
              "          dataTable['output_type'] = 'display_data';\n",
              "          await google.colab.output.renderOutput(dataTable, element);\n",
              "          const docLink = document.createElement('div');\n",
              "          docLink.innerHTML = docLinkHtml;\n",
              "          element.appendChild(docLink);\n",
              "        }\n",
              "      </script>\n",
              "    </div>\n",
              "  </div>\n",
              "  "
            ],
            "text/plain": [
              "       eval_loss  eval_Accuracy   eval_F1  eval_Precision  eval_Recall\n",
              "train   0.014283       0.996890  0.996809        0.996766     0.996853\n",
              "val     0.109789       0.970817  0.970740        0.971255     0.970433\n",
              "test    0.167660       0.957254  0.957065        0.957663     0.956975"
            ]
          },
          "execution_count": 18,
          "metadata": {},
          "output_type": "execute_result"
        }
      ],
      "source": [
        "evaluatn = [trainer.evaluate(eval_dataset=data) for data in [train_d, val_d, test_d]]\n",
        "pd.DataFrame(evaluatn, index=[\"train\",\"val\",\"test\"]).iloc[:, :5]"
      ]
    },
    {
      "cell_type": "code",
      "execution_count": 19,
      "metadata": {
        "colab": {
          "base_uri": "https://localhost:8080/"
        },
        "id": "j697GKaF2hkw",
        "outputId": "47ddf5f6-bab3-4013-b144-839e4b1f930c"
      },
      "outputs": [
        {
          "name": "stderr",
          "output_type": "stream",
          "text": [
            "tokenizer config file saved in outputs/distillBert/tokenizer_config.json\n",
            "Special tokens file saved in outputs/distillBert/special_tokens_map.json\n",
            "Saving model checkpoint to outputs/distillBert\n",
            "Configuration saved in outputs/distillBert/config.json\n",
            "Model weights saved in outputs/distillBert/pytorch_model.bin\n"
          ]
        }
      ],
      "source": [
        "model_path = \"outputs/distillBert\"\n",
        "tokenizer.save_pretrained(model_path)\n",
        "trainer.save_model(model_path)"
      ]
    },
    {
      "cell_type": "code",
      "execution_count": 20,
      "metadata": {
        "colab": {
          "base_uri": "https://localhost:8080/"
        },
        "id": "bd5sMwCQ2hkw",
        "outputId": "504452b8-a7bb-4d1c-b951-acdea99ed684"
      },
      "outputs": [
        {
          "name": "stderr",
          "output_type": "stream",
          "text": [
            "loading file vocab.txt\n",
            "loading file tokenizer.json\n",
            "loading file added_tokens.json\n",
            "loading file special_tokens_map.json\n",
            "loading file tokenizer_config.json\n",
            "loading configuration file outputs/distillBert/config.json\n",
            "Model config DistilBertConfig {\n",
            "  \"_name_or_path\": \"distilbert-base-uncased\",\n",
            "  \"activation\": \"gelu\",\n",
            "  \"architectures\": [\n",
            "    \"DistilBertForSequenceClassification\"\n",
            "  ],\n",
            "  \"attention_dropout\": 0.1,\n",
            "  \"dim\": 768,\n",
            "  \"dropout\": 0.1,\n",
            "  \"hidden_dim\": 3072,\n",
            "  \"id2label\": {\n",
            "    \"0\": \"business\",\n",
            "    \"1\": \"entertainment\",\n",
            "    \"2\": \"politics\",\n",
            "    \"3\": \"sport\",\n",
            "    \"4\": \"tech\"\n",
            "  },\n",
            "  \"initializer_range\": 0.02,\n",
            "  \"label2id\": {\n",
            "    \"business\": 0,\n",
            "    \"entertainment\": 1,\n",
            "    \"politics\": 2,\n",
            "    \"sport\": 3,\n",
            "    \"tech\": 4\n",
            "  },\n",
            "  \"max_position_embeddings\": 512,\n",
            "  \"model_type\": \"distilbert\",\n",
            "  \"n_heads\": 12,\n",
            "  \"n_layers\": 6,\n",
            "  \"pad_token_id\": 0,\n",
            "  \"problem_type\": \"single_label_classification\",\n",
            "  \"qa_dropout\": 0.1,\n",
            "  \"seq_classif_dropout\": 0.2,\n",
            "  \"sinusoidal_pos_embds\": false,\n",
            "  \"tie_weights_\": true,\n",
            "  \"torch_dtype\": \"float32\",\n",
            "  \"transformers_version\": \"4.22.2\",\n",
            "  \"vocab_size\": 30522\n",
            "}\n",
            "\n",
            "loading weights file outputs/distillBert/pytorch_model.bin\n",
            "All model checkpoint weights were used when initializing DistilBertForSequenceClassification.\n",
            "\n",
            "All the weights of DistilBertForSequenceClassification were initialized from the model checkpoint at outputs/distillBert.\n",
            "If your task is similar to the task the model of the checkpoint was trained on, you can already use DistilBertForSequenceClassification for predictions without further training.\n"
          ]
        }
      ],
      "source": [
        "tokenizer_load= DistilBertTokenizerFast.from_pretrained(model_path)\n",
        "model_load = DistilBertForSequenceClassification.from_pretrained(model_path).to(device)"
      ]
    },
    {
      "cell_type": "code",
      "execution_count": 21,
      "metadata": {
        "id": "c2uaRI2A2hkw"
      },
      "outputs": [],
      "source": [
        "news = [\"IBM to split into two as it reinvents itself. The move is an attempt to shift its\\\n",
        "        focus to higher-margin businesses like cloud computing and artificial intelligence.\",\\\n",
        "        \"Roger Federer: 20-time Grand Slam champion retires after Laver Cup loss.\\\n",
        "        The 41-year-old received a long ovation after walking off court for the final time as\\\n",
        "        he retired as a professional.\",\\\n",
        "        \"Liz Truss admits disruption after tax cut pledges.\",\\\n",
        "        \"Seen as the most promising next-generation solar cell, this technology, called perovskite,\\\n",
        "        is exactly what Japanese start-up Enecoat Technologies is trying to develop.\"]\n",
        "\n",
        "true_label = ['business', 'sport', 'politics', 'tech']"
      ]
    },
    {
      "cell_type": "code",
      "execution_count": 22,
      "metadata": {
        "id": "xnyi0UfJ2hkx"
      },
      "outputs": [],
      "source": [
        "def get_predict(text, labels):\n",
        "    inputs = tokenizer_load(text, padding=True, truncation=True, return_tensors=\"pt\").to(device)\n",
        "    outputs = model_load(inputs[\"input_ids\"].to(device), inputs[\"attention_mask\"].to(device))\n",
        "    probs = outputs[0].softmax(1)\n",
        "    pred_idx = [prob.argmax().item() for prob in probs]\n",
        "    pred = [model_load.config.id2label[idx] for idx in pred_idx]\n",
        "    \n",
        "    print(\"Accuracy: \", accuracy_score(labels, pred))\n",
        "    print(\"True labels: \", labels)\n",
        "    print(\"Predicted labels: \", pred)"
      ]
    },
    {
      "cell_type": "code",
      "execution_count": 23,
      "metadata": {
        "colab": {
          "base_uri": "https://localhost:8080/"
        },
        "id": "vL8i496C2hkx",
        "outputId": "a9e334d2-15dd-4174-c603-98703a004a34"
      },
      "outputs": [
        {
          "name": "stdout",
          "output_type": "stream",
          "text": [
            "Accuracy:  0.75\n",
            "True labels:  ['business', 'sport', 'politics', 'tech']\n",
            "Predicted labels:  ['tech', 'sport', 'politics', 'tech']\n"
          ]
        }
      ],
      "source": [
        "get_predict(news, true_label)"
      ]
    },
    {
      "cell_type": "markdown",
      "metadata": {
        "id": "_2RIS_812hkx"
      },
      "source": [
        "The DistillBert shows higher metrics scores than the Random Forest Classifier.<br>\n",
        "On few, four unseen, pieces of news both models missclassified 1 (out of 4) category."
      ]
    },
    {
      "cell_type": "code",
      "execution_count": null,
      "metadata": {
        "id": "zKbZtGg82hkx"
      },
      "outputs": [],
      "source": []
    }
  ],
  "metadata": {
    "accelerator": "GPU",
    "colab": {
      "collapsed_sections": [],
      "provenance": []
    },
    "kernelspec": {
      "display_name": "Python 3.10.5 64-bit",
      "language": "python",
      "name": "python3"
    },
    "language_info": {
      "codemirror_mode": {
        "name": "ipython",
        "version": 3
      },
      "file_extension": ".py",
      "mimetype": "text/x-python",
      "name": "python",
      "nbconvert_exporter": "python",
      "pygments_lexer": "ipython3",
      "version": "3.10.5"
    },
    "orig_nbformat": 4,
    "vscode": {
      "interpreter": {
        "hash": "afb734500600fd355917ca529030176ea0ca205570884b88f2f6f7d791fd3fbe"
      }
    },
    "widgets": {
      "application/vnd.jupyter.widget-state+json": {
        "07aa31aabbcf43a4b92b17f4b8dd8693": {
          "model_module": "@jupyter-widgets/controls",
          "model_module_version": "1.5.0",
          "model_name": "HBoxModel",
          "state": {
            "_dom_classes": [],
            "_model_module": "@jupyter-widgets/controls",
            "_model_module_version": "1.5.0",
            "_model_name": "HBoxModel",
            "_view_count": null,
            "_view_module": "@jupyter-widgets/controls",
            "_view_module_version": "1.5.0",
            "_view_name": "HBoxView",
            "box_style": "",
            "children": [
              "IPY_MODEL_e05b6ffd3ce04a1f83e26567946981ab",
              "IPY_MODEL_e0bf21aa29d54276b191a0132450a804",
              "IPY_MODEL_b76e8c8c510c4a4fb903200a720df3c4"
            ],
            "layout": "IPY_MODEL_c19931b1e99348d6b77ffa5a009c6b42"
          }
        },
        "15f5e744d80a494c8448fce76da303c6": {
          "model_module": "@jupyter-widgets/base",
          "model_module_version": "1.2.0",
          "model_name": "LayoutModel",
          "state": {
            "_model_module": "@jupyter-widgets/base",
            "_model_module_version": "1.2.0",
            "_model_name": "LayoutModel",
            "_view_count": null,
            "_view_module": "@jupyter-widgets/base",
            "_view_module_version": "1.2.0",
            "_view_name": "LayoutView",
            "align_content": null,
            "align_items": null,
            "align_self": null,
            "border": null,
            "bottom": null,
            "display": null,
            "flex": null,
            "flex_flow": null,
            "grid_area": null,
            "grid_auto_columns": null,
            "grid_auto_flow": null,
            "grid_auto_rows": null,
            "grid_column": null,
            "grid_gap": null,
            "grid_row": null,
            "grid_template_areas": null,
            "grid_template_columns": null,
            "grid_template_rows": null,
            "height": null,
            "justify_content": null,
            "justify_items": null,
            "left": null,
            "margin": null,
            "max_height": null,
            "max_width": null,
            "min_height": null,
            "min_width": null,
            "object_fit": null,
            "object_position": null,
            "order": null,
            "overflow": null,
            "overflow_x": null,
            "overflow_y": null,
            "padding": null,
            "right": null,
            "top": null,
            "visibility": null,
            "width": null
          }
        },
        "372af559675f4684a00432af9b5ac2c4": {
          "model_module": "@jupyter-widgets/controls",
          "model_module_version": "1.5.0",
          "model_name": "HBoxModel",
          "state": {
            "_dom_classes": [],
            "_model_module": "@jupyter-widgets/controls",
            "_model_module_version": "1.5.0",
            "_model_name": "HBoxModel",
            "_view_count": null,
            "_view_module": "@jupyter-widgets/controls",
            "_view_module_version": "1.5.0",
            "_view_name": "HBoxView",
            "box_style": "",
            "children": [
              "IPY_MODEL_65904e52768445df915481125dd1e7f7",
              "IPY_MODEL_c5d445f43884415ba255fe5fc0af89e4",
              "IPY_MODEL_e1f3047d56f94f0181c69c3649437235"
            ],
            "layout": "IPY_MODEL_edabcd1ca0184424b0e00a005b205f74"
          }
        },
        "56e793df8bab4502878e375674e434d4": {
          "model_module": "@jupyter-widgets/base",
          "model_module_version": "1.2.0",
          "model_name": "LayoutModel",
          "state": {
            "_model_module": "@jupyter-widgets/base",
            "_model_module_version": "1.2.0",
            "_model_name": "LayoutModel",
            "_view_count": null,
            "_view_module": "@jupyter-widgets/base",
            "_view_module_version": "1.2.0",
            "_view_name": "LayoutView",
            "align_content": null,
            "align_items": null,
            "align_self": null,
            "border": null,
            "bottom": null,
            "display": null,
            "flex": null,
            "flex_flow": null,
            "grid_area": null,
            "grid_auto_columns": null,
            "grid_auto_flow": null,
            "grid_auto_rows": null,
            "grid_column": null,
            "grid_gap": null,
            "grid_row": null,
            "grid_template_areas": null,
            "grid_template_columns": null,
            "grid_template_rows": null,
            "height": null,
            "justify_content": null,
            "justify_items": null,
            "left": null,
            "margin": null,
            "max_height": null,
            "max_width": null,
            "min_height": null,
            "min_width": null,
            "object_fit": null,
            "object_position": null,
            "order": null,
            "overflow": null,
            "overflow_x": null,
            "overflow_y": null,
            "padding": null,
            "right": null,
            "top": null,
            "visibility": null,
            "width": null
          }
        },
        "5a1b1a357abd41f38fb81a861880cf5a": {
          "model_module": "@jupyter-widgets/controls",
          "model_module_version": "1.5.0",
          "model_name": "DescriptionStyleModel",
          "state": {
            "_model_module": "@jupyter-widgets/controls",
            "_model_module_version": "1.5.0",
            "_model_name": "DescriptionStyleModel",
            "_view_count": null,
            "_view_module": "@jupyter-widgets/base",
            "_view_module_version": "1.2.0",
            "_view_name": "StyleView",
            "description_width": ""
          }
        },
        "5e0911988ed64d2eb1596daeb02c8570": {
          "model_module": "@jupyter-widgets/base",
          "model_module_version": "1.2.0",
          "model_name": "LayoutModel",
          "state": {
            "_model_module": "@jupyter-widgets/base",
            "_model_module_version": "1.2.0",
            "_model_name": "LayoutModel",
            "_view_count": null,
            "_view_module": "@jupyter-widgets/base",
            "_view_module_version": "1.2.0",
            "_view_name": "LayoutView",
            "align_content": null,
            "align_items": null,
            "align_self": null,
            "border": null,
            "bottom": null,
            "display": null,
            "flex": null,
            "flex_flow": null,
            "grid_area": null,
            "grid_auto_columns": null,
            "grid_auto_flow": null,
            "grid_auto_rows": null,
            "grid_column": null,
            "grid_gap": null,
            "grid_row": null,
            "grid_template_areas": null,
            "grid_template_columns": null,
            "grid_template_rows": null,
            "height": null,
            "justify_content": null,
            "justify_items": null,
            "left": null,
            "margin": null,
            "max_height": null,
            "max_width": null,
            "min_height": null,
            "min_width": null,
            "object_fit": null,
            "object_position": null,
            "order": null,
            "overflow": null,
            "overflow_x": null,
            "overflow_y": null,
            "padding": null,
            "right": null,
            "top": null,
            "visibility": null,
            "width": null
          }
        },
        "60a74ccad6bf4b16b5dd105917816711": {
          "model_module": "@jupyter-widgets/base",
          "model_module_version": "1.2.0",
          "model_name": "LayoutModel",
          "state": {
            "_model_module": "@jupyter-widgets/base",
            "_model_module_version": "1.2.0",
            "_model_name": "LayoutModel",
            "_view_count": null,
            "_view_module": "@jupyter-widgets/base",
            "_view_module_version": "1.2.0",
            "_view_name": "LayoutView",
            "align_content": null,
            "align_items": null,
            "align_self": null,
            "border": null,
            "bottom": null,
            "display": null,
            "flex": null,
            "flex_flow": null,
            "grid_area": null,
            "grid_auto_columns": null,
            "grid_auto_flow": null,
            "grid_auto_rows": null,
            "grid_column": null,
            "grid_gap": null,
            "grid_row": null,
            "grid_template_areas": null,
            "grid_template_columns": null,
            "grid_template_rows": null,
            "height": null,
            "justify_content": null,
            "justify_items": null,
            "left": null,
            "margin": null,
            "max_height": null,
            "max_width": null,
            "min_height": null,
            "min_width": null,
            "object_fit": null,
            "object_position": null,
            "order": null,
            "overflow": null,
            "overflow_x": null,
            "overflow_y": null,
            "padding": null,
            "right": null,
            "top": null,
            "visibility": null,
            "width": null
          }
        },
        "65904e52768445df915481125dd1e7f7": {
          "model_module": "@jupyter-widgets/controls",
          "model_module_version": "1.5.0",
          "model_name": "HTMLModel",
          "state": {
            "_dom_classes": [],
            "_model_module": "@jupyter-widgets/controls",
            "_model_module_version": "1.5.0",
            "_model_name": "HTMLModel",
            "_view_count": null,
            "_view_module": "@jupyter-widgets/controls",
            "_view_module_version": "1.5.0",
            "_view_name": "HTMLView",
            "description": "",
            "description_tooltip": null,
            "layout": "IPY_MODEL_5e0911988ed64d2eb1596daeb02c8570",
            "placeholder": "​",
            "style": "IPY_MODEL_9b9ba0908dea45d9aeaabc76f2fb16f4",
            "value": "100%"
          }
        },
        "6e3aac36f810416fb9ce72a8e2b6216a": {
          "model_module": "@jupyter-widgets/controls",
          "model_module_version": "1.5.0",
          "model_name": "ProgressStyleModel",
          "state": {
            "_model_module": "@jupyter-widgets/controls",
            "_model_module_version": "1.5.0",
            "_model_name": "ProgressStyleModel",
            "_view_count": null,
            "_view_module": "@jupyter-widgets/base",
            "_view_module_version": "1.2.0",
            "_view_name": "StyleView",
            "bar_color": null,
            "description_width": ""
          }
        },
        "736b3e2d94ce47739ff174c86732b316": {
          "model_module": "@jupyter-widgets/controls",
          "model_module_version": "1.5.0",
          "model_name": "DescriptionStyleModel",
          "state": {
            "_model_module": "@jupyter-widgets/controls",
            "_model_module_version": "1.5.0",
            "_model_name": "DescriptionStyleModel",
            "_view_count": null,
            "_view_module": "@jupyter-widgets/base",
            "_view_module_version": "1.2.0",
            "_view_name": "StyleView",
            "description_width": ""
          }
        },
        "77d27d9070634815aaf656e57d8e62f4": {
          "model_module": "@jupyter-widgets/base",
          "model_module_version": "1.2.0",
          "model_name": "LayoutModel",
          "state": {
            "_model_module": "@jupyter-widgets/base",
            "_model_module_version": "1.2.0",
            "_model_name": "LayoutModel",
            "_view_count": null,
            "_view_module": "@jupyter-widgets/base",
            "_view_module_version": "1.2.0",
            "_view_name": "LayoutView",
            "align_content": null,
            "align_items": null,
            "align_self": null,
            "border": null,
            "bottom": null,
            "display": null,
            "flex": null,
            "flex_flow": null,
            "grid_area": null,
            "grid_auto_columns": null,
            "grid_auto_flow": null,
            "grid_auto_rows": null,
            "grid_column": null,
            "grid_gap": null,
            "grid_row": null,
            "grid_template_areas": null,
            "grid_template_columns": null,
            "grid_template_rows": null,
            "height": null,
            "justify_content": null,
            "justify_items": null,
            "left": null,
            "margin": null,
            "max_height": null,
            "max_width": null,
            "min_height": null,
            "min_width": null,
            "object_fit": null,
            "object_position": null,
            "order": null,
            "overflow": null,
            "overflow_x": null,
            "overflow_y": null,
            "padding": null,
            "right": null,
            "top": null,
            "visibility": null,
            "width": null
          }
        },
        "8baa8dc5e2ef42a1b54ccda5db1c1997": {
          "model_module": "@jupyter-widgets/controls",
          "model_module_version": "1.5.0",
          "model_name": "ProgressStyleModel",
          "state": {
            "_model_module": "@jupyter-widgets/controls",
            "_model_module_version": "1.5.0",
            "_model_name": "ProgressStyleModel",
            "_view_count": null,
            "_view_module": "@jupyter-widgets/base",
            "_view_module_version": "1.2.0",
            "_view_name": "StyleView",
            "bar_color": null,
            "description_width": ""
          }
        },
        "9b9ba0908dea45d9aeaabc76f2fb16f4": {
          "model_module": "@jupyter-widgets/controls",
          "model_module_version": "1.5.0",
          "model_name": "DescriptionStyleModel",
          "state": {
            "_model_module": "@jupyter-widgets/controls",
            "_model_module_version": "1.5.0",
            "_model_name": "DescriptionStyleModel",
            "_view_count": null,
            "_view_module": "@jupyter-widgets/base",
            "_view_module_version": "1.2.0",
            "_view_name": "StyleView",
            "description_width": ""
          }
        },
        "9cd65022157a4efb8c5b3e3582601000": {
          "model_module": "@jupyter-widgets/controls",
          "model_module_version": "1.5.0",
          "model_name": "DescriptionStyleModel",
          "state": {
            "_model_module": "@jupyter-widgets/controls",
            "_model_module_version": "1.5.0",
            "_model_name": "DescriptionStyleModel",
            "_view_count": null,
            "_view_module": "@jupyter-widgets/base",
            "_view_module_version": "1.2.0",
            "_view_name": "StyleView",
            "description_width": ""
          }
        },
        "b76e8c8c510c4a4fb903200a720df3c4": {
          "model_module": "@jupyter-widgets/controls",
          "model_module_version": "1.5.0",
          "model_name": "HTMLModel",
          "state": {
            "_dom_classes": [],
            "_model_module": "@jupyter-widgets/controls",
            "_model_module_version": "1.5.0",
            "_model_name": "HTMLModel",
            "_view_count": null,
            "_view_module": "@jupyter-widgets/controls",
            "_view_module_version": "1.5.0",
            "_view_name": "HTMLView",
            "description": "",
            "description_tooltip": null,
            "layout": "IPY_MODEL_fd52b7c3086447afa59dac773671c293",
            "placeholder": "​",
            "style": "IPY_MODEL_5a1b1a357abd41f38fb81a861880cf5a",
            "value": " 268M/268M [00:04&lt;00:00, 54.8MB/s]"
          }
        },
        "c19931b1e99348d6b77ffa5a009c6b42": {
          "model_module": "@jupyter-widgets/base",
          "model_module_version": "1.2.0",
          "model_name": "LayoutModel",
          "state": {
            "_model_module": "@jupyter-widgets/base",
            "_model_module_version": "1.2.0",
            "_model_name": "LayoutModel",
            "_view_count": null,
            "_view_module": "@jupyter-widgets/base",
            "_view_module_version": "1.2.0",
            "_view_name": "LayoutView",
            "align_content": null,
            "align_items": null,
            "align_self": null,
            "border": null,
            "bottom": null,
            "display": null,
            "flex": null,
            "flex_flow": null,
            "grid_area": null,
            "grid_auto_columns": null,
            "grid_auto_flow": null,
            "grid_auto_rows": null,
            "grid_column": null,
            "grid_gap": null,
            "grid_row": null,
            "grid_template_areas": null,
            "grid_template_columns": null,
            "grid_template_rows": null,
            "height": null,
            "justify_content": null,
            "justify_items": null,
            "left": null,
            "margin": null,
            "max_height": null,
            "max_width": null,
            "min_height": null,
            "min_width": null,
            "object_fit": null,
            "object_position": null,
            "order": null,
            "overflow": null,
            "overflow_x": null,
            "overflow_y": null,
            "padding": null,
            "right": null,
            "top": null,
            "visibility": null,
            "width": null
          }
        },
        "c5d445f43884415ba255fe5fc0af89e4": {
          "model_module": "@jupyter-widgets/controls",
          "model_module_version": "1.5.0",
          "model_name": "FloatProgressModel",
          "state": {
            "_dom_classes": [],
            "_model_module": "@jupyter-widgets/controls",
            "_model_module_version": "1.5.0",
            "_model_name": "FloatProgressModel",
            "_view_count": null,
            "_view_module": "@jupyter-widgets/controls",
            "_view_module_version": "1.5.0",
            "_view_name": "ProgressView",
            "bar_style": "success",
            "description": "",
            "description_tooltip": null,
            "layout": "IPY_MODEL_77d27d9070634815aaf656e57d8e62f4",
            "max": 12860,
            "min": 0,
            "orientation": "horizontal",
            "style": "IPY_MODEL_6e3aac36f810416fb9ce72a8e2b6216a",
            "value": 12860
          }
        },
        "e05b6ffd3ce04a1f83e26567946981ab": {
          "model_module": "@jupyter-widgets/controls",
          "model_module_version": "1.5.0",
          "model_name": "HTMLModel",
          "state": {
            "_dom_classes": [],
            "_model_module": "@jupyter-widgets/controls",
            "_model_module_version": "1.5.0",
            "_model_name": "HTMLModel",
            "_view_count": null,
            "_view_module": "@jupyter-widgets/controls",
            "_view_module_version": "1.5.0",
            "_view_name": "HTMLView",
            "description": "",
            "description_tooltip": null,
            "layout": "IPY_MODEL_60a74ccad6bf4b16b5dd105917816711",
            "placeholder": "​",
            "style": "IPY_MODEL_9cd65022157a4efb8c5b3e3582601000",
            "value": "Downloading: 100%"
          }
        },
        "e0bf21aa29d54276b191a0132450a804": {
          "model_module": "@jupyter-widgets/controls",
          "model_module_version": "1.5.0",
          "model_name": "FloatProgressModel",
          "state": {
            "_dom_classes": [],
            "_model_module": "@jupyter-widgets/controls",
            "_model_module_version": "1.5.0",
            "_model_name": "FloatProgressModel",
            "_view_count": null,
            "_view_module": "@jupyter-widgets/controls",
            "_view_module_version": "1.5.0",
            "_view_name": "ProgressView",
            "bar_style": "success",
            "description": "",
            "description_tooltip": null,
            "layout": "IPY_MODEL_56e793df8bab4502878e375674e434d4",
            "max": 267967963,
            "min": 0,
            "orientation": "horizontal",
            "style": "IPY_MODEL_8baa8dc5e2ef42a1b54ccda5db1c1997",
            "value": 267967963
          }
        },
        "e1f3047d56f94f0181c69c3649437235": {
          "model_module": "@jupyter-widgets/controls",
          "model_module_version": "1.5.0",
          "model_name": "HTMLModel",
          "state": {
            "_dom_classes": [],
            "_model_module": "@jupyter-widgets/controls",
            "_model_module_version": "1.5.0",
            "_model_name": "HTMLModel",
            "_view_count": null,
            "_view_module": "@jupyter-widgets/controls",
            "_view_module_version": "1.5.0",
            "_view_name": "HTMLView",
            "description": "",
            "description_tooltip": null,
            "layout": "IPY_MODEL_15f5e744d80a494c8448fce76da303c6",
            "placeholder": "​",
            "style": "IPY_MODEL_736b3e2d94ce47739ff174c86732b316",
            "value": " 12860/12860 [00:00&lt;00:00, 15058.45ex/s]"
          }
        },
        "edabcd1ca0184424b0e00a005b205f74": {
          "model_module": "@jupyter-widgets/base",
          "model_module_version": "1.2.0",
          "model_name": "LayoutModel",
          "state": {
            "_model_module": "@jupyter-widgets/base",
            "_model_module_version": "1.2.0",
            "_model_name": "LayoutModel",
            "_view_count": null,
            "_view_module": "@jupyter-widgets/base",
            "_view_module_version": "1.2.0",
            "_view_name": "LayoutView",
            "align_content": null,
            "align_items": null,
            "align_self": null,
            "border": null,
            "bottom": null,
            "display": null,
            "flex": null,
            "flex_flow": null,
            "grid_area": null,
            "grid_auto_columns": null,
            "grid_auto_flow": null,
            "grid_auto_rows": null,
            "grid_column": null,
            "grid_gap": null,
            "grid_row": null,
            "grid_template_areas": null,
            "grid_template_columns": null,
            "grid_template_rows": null,
            "height": null,
            "justify_content": null,
            "justify_items": null,
            "left": null,
            "margin": null,
            "max_height": null,
            "max_width": null,
            "min_height": null,
            "min_width": null,
            "object_fit": null,
            "object_position": null,
            "order": null,
            "overflow": null,
            "overflow_x": null,
            "overflow_y": null,
            "padding": null,
            "right": null,
            "top": null,
            "visibility": null,
            "width": null
          }
        },
        "fd52b7c3086447afa59dac773671c293": {
          "model_module": "@jupyter-widgets/base",
          "model_module_version": "1.2.0",
          "model_name": "LayoutModel",
          "state": {
            "_model_module": "@jupyter-widgets/base",
            "_model_module_version": "1.2.0",
            "_model_name": "LayoutModel",
            "_view_count": null,
            "_view_module": "@jupyter-widgets/base",
            "_view_module_version": "1.2.0",
            "_view_name": "LayoutView",
            "align_content": null,
            "align_items": null,
            "align_self": null,
            "border": null,
            "bottom": null,
            "display": null,
            "flex": null,
            "flex_flow": null,
            "grid_area": null,
            "grid_auto_columns": null,
            "grid_auto_flow": null,
            "grid_auto_rows": null,
            "grid_column": null,
            "grid_gap": null,
            "grid_row": null,
            "grid_template_areas": null,
            "grid_template_columns": null,
            "grid_template_rows": null,
            "height": null,
            "justify_content": null,
            "justify_items": null,
            "left": null,
            "margin": null,
            "max_height": null,
            "max_width": null,
            "min_height": null,
            "min_width": null,
            "object_fit": null,
            "object_position": null,
            "order": null,
            "overflow": null,
            "overflow_x": null,
            "overflow_y": null,
            "padding": null,
            "right": null,
            "top": null,
            "visibility": null,
            "width": null
          }
        }
      }
    }
  },
  "nbformat": 4,
  "nbformat_minor": 0
}
