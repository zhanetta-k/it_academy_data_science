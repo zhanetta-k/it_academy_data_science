{
 "cells": [
  {
   "cell_type": "markdown",
   "metadata": {
    "collapsed": true,
    "pycharm": {
     "name": "#%%\n"
    }
   },
   "source": [
    "# Part 2. A/B test inference"
   ]
  },
  {
   "cell_type": "markdown",
   "metadata": {},
   "source": [
    "H0 : p  = p0 <p>H1  : p != p0</p>"
   ]
  },
  {
   "cell_type": "code",
   "execution_count": 2,
   "metadata": {},
   "outputs": [],
   "source": [
    "import numpy as np\n",
    "import pandas as pd\n",
    "import scipy.stats as stats\n",
    "import statsmodels.stats.api as sms\n",
    "import matplotlib as mpl\n",
    "import matplotlib.pyplot as plt\n",
    "import seaborn as sns\n",
    "from math import ceil\n",
    "from statsmodels.stats.proportion import proportions_ztest, proportion_confint\n",
    "\n",
    "%matplotlib inline\n",
    "plt.style.use('seaborn-whitegrid')\n",
    "font = {'family' : 'Helvetica',\n",
    "        'weight' : 'bold',\n",
    "        'size'   : 14}\n",
    "mpl.rc('font', **font)"
   ]
  },
  {
   "cell_type": "code",
   "execution_count": 3,
   "metadata": {},
   "outputs": [
    {
     "data": {
      "text/html": [
       "<div>\n",
       "<style scoped>\n",
       "    .dataframe tbody tr th:only-of-type {\n",
       "        vertical-align: middle;\n",
       "    }\n",
       "\n",
       "    .dataframe tbody tr th {\n",
       "        vertical-align: top;\n",
       "    }\n",
       "\n",
       "    .dataframe thead th {\n",
       "        text-align: right;\n",
       "    }\n",
       "</style>\n",
       "<table border=\"1\" class=\"dataframe\">\n",
       "  <thead>\n",
       "    <tr style=\"text-align: right;\">\n",
       "      <th></th>\n",
       "      <th>user_id</th>\n",
       "      <th>timestamp</th>\n",
       "      <th>group</th>\n",
       "      <th>variants</th>\n",
       "      <th>converted</th>\n",
       "      <th>location</th>\n",
       "      <th>age_group</th>\n",
       "      <th>user_type</th>\n",
       "    </tr>\n",
       "  </thead>\n",
       "  <tbody>\n",
       "    <tr>\n",
       "      <th>0</th>\n",
       "      <td>9109b0dc-d393-497f-8d63-ba9a25dd16b4</td>\n",
       "      <td>2022-05-21 22:11:48.556739</td>\n",
       "      <td>control</td>\n",
       "      <td>standard</td>\n",
       "      <td>0</td>\n",
       "      <td>United Kingdom</td>\n",
       "      <td>18-25</td>\n",
       "      <td>registered_user</td>\n",
       "    </tr>\n",
       "    <tr>\n",
       "      <th>1</th>\n",
       "      <td>2430c3d2-f75b-4b31-8271-51b6a76c2652</td>\n",
       "      <td>2022-05-12 08:01:45.159739</td>\n",
       "      <td>control</td>\n",
       "      <td>standard</td>\n",
       "      <td>0</td>\n",
       "      <td>United Kingdom</td>\n",
       "      <td>42-49</td>\n",
       "      <td>registered_user</td>\n",
       "    </tr>\n",
       "    <tr>\n",
       "      <th>2</th>\n",
       "      <td>44788c4e-8dd2-4fad-b986-75e76f4adb64</td>\n",
       "      <td>2022-05-11 16:55:06.154213</td>\n",
       "      <td>treatment</td>\n",
       "      <td>svm_ensemble_v_1_22</td>\n",
       "      <td>0</td>\n",
       "      <td>United Kingdom</td>\n",
       "      <td>26-33</td>\n",
       "      <td>new_user</td>\n",
       "    </tr>\n",
       "    <tr>\n",
       "      <th>3</th>\n",
       "      <td>4699a417-506d-41b8-a354-6af6ad576963</td>\n",
       "      <td>2022-05-08 18:28:03.143765</td>\n",
       "      <td>treatment</td>\n",
       "      <td>svm_ensemble_v_1_22</td>\n",
       "      <td>0</td>\n",
       "      <td>United Kingdom</td>\n",
       "      <td>42-49</td>\n",
       "      <td>registered_user</td>\n",
       "    </tr>\n",
       "    <tr>\n",
       "      <th>4</th>\n",
       "      <td>304b0d28-bcdf-401a-9dff-66230d3ba0bc</td>\n",
       "      <td>2022-05-21 01:52:26.210827</td>\n",
       "      <td>control</td>\n",
       "      <td>standard</td>\n",
       "      <td>1</td>\n",
       "      <td>United Kingdom</td>\n",
       "      <td>42-49</td>\n",
       "      <td>registered_user</td>\n",
       "    </tr>\n",
       "    <tr>\n",
       "      <th>5</th>\n",
       "      <td>426f77eb-8739-43b6-999c-aecd14d9f346</td>\n",
       "      <td>2022-05-10 15:20:49.083499</td>\n",
       "      <td>control</td>\n",
       "      <td>standard</td>\n",
       "      <td>0</td>\n",
       "      <td>United Kingdom</td>\n",
       "      <td>42-49</td>\n",
       "      <td>registered_user</td>\n",
       "    </tr>\n",
       "    <tr>\n",
       "      <th>6</th>\n",
       "      <td>aa9d93c5-a18f-444a-a522-7e7145835362</td>\n",
       "      <td>2022-05-19 03:26:46.940749</td>\n",
       "      <td>treatment</td>\n",
       "      <td>svm_ensemble_v_1_22</td>\n",
       "      <td>1</td>\n",
       "      <td>United Kingdom</td>\n",
       "      <td>26-33</td>\n",
       "      <td>registered_user</td>\n",
       "    </tr>\n",
       "  </tbody>\n",
       "</table>\n",
       "</div>"
      ],
      "text/plain": [
       "                                user_id                   timestamp  \\\n",
       "0  9109b0dc-d393-497f-8d63-ba9a25dd16b4  2022-05-21 22:11:48.556739   \n",
       "1  2430c3d2-f75b-4b31-8271-51b6a76c2652  2022-05-12 08:01:45.159739   \n",
       "2  44788c4e-8dd2-4fad-b986-75e76f4adb64  2022-05-11 16:55:06.154213   \n",
       "3  4699a417-506d-41b8-a354-6af6ad576963  2022-05-08 18:28:03.143765   \n",
       "4  304b0d28-bcdf-401a-9dff-66230d3ba0bc  2022-05-21 01:52:26.210827   \n",
       "5  426f77eb-8739-43b6-999c-aecd14d9f346  2022-05-10 15:20:49.083499   \n",
       "6  aa9d93c5-a18f-444a-a522-7e7145835362  2022-05-19 03:26:46.940749   \n",
       "\n",
       "       group             variants  converted        location age_group  \\\n",
       "0    control             standard          0  United Kingdom     18-25   \n",
       "1    control             standard          0  United Kingdom     42-49   \n",
       "2  treatment  svm_ensemble_v_1_22          0  United Kingdom     26-33   \n",
       "3  treatment  svm_ensemble_v_1_22          0  United Kingdom     42-49   \n",
       "4    control             standard          1  United Kingdom     42-49   \n",
       "5    control             standard          0  United Kingdom     42-49   \n",
       "6  treatment  svm_ensemble_v_1_22          1  United Kingdom     26-33   \n",
       "\n",
       "         user_type  \n",
       "0  registered_user  \n",
       "1  registered_user  \n",
       "2         new_user  \n",
       "3  registered_user  \n",
       "4  registered_user  \n",
       "5  registered_user  \n",
       "6  registered_user  "
      ]
     },
     "execution_count": 3,
     "metadata": {},
     "output_type": "execute_result"
    }
   ],
   "source": [
    "data = pd.read_csv('ab_test_ensembles.csv')\n",
    "data.head(7)"
   ]
  },
  {
   "cell_type": "code",
   "execution_count": 4,
   "metadata": {},
   "outputs": [
    {
     "name": "stdout",
     "output_type": "stream",
     "text": [
      "<class 'pandas.core.frame.DataFrame'>\n",
      "RangeIndex: 294478 entries, 0 to 294477\n",
      "Data columns (total 8 columns):\n",
      " #   Column     Non-Null Count   Dtype \n",
      "---  ------     --------------   ----- \n",
      " 0   user_id    294478 non-null  object\n",
      " 1   timestamp  294478 non-null  object\n",
      " 2   group      294478 non-null  object\n",
      " 3   variants   294478 non-null  object\n",
      " 4   converted  294478 non-null  int64 \n",
      " 5   location   294478 non-null  object\n",
      " 6   age_group  294478 non-null  object\n",
      " 7   user_type  294478 non-null  object\n",
      "dtypes: int64(1), object(7)\n",
      "memory usage: 18.0+ MB\n"
     ]
    }
   ],
   "source": [
    "data.info()"
   ]
  },
  {
   "cell_type": "code",
   "execution_count": 5,
   "metadata": {},
   "outputs": [
    {
     "data": {
      "text/html": [
       "<div>\n",
       "<style scoped>\n",
       "    .dataframe tbody tr th:only-of-type {\n",
       "        vertical-align: middle;\n",
       "    }\n",
       "\n",
       "    .dataframe tbody tr th {\n",
       "        vertical-align: top;\n",
       "    }\n",
       "\n",
       "    .dataframe thead th {\n",
       "        text-align: right;\n",
       "    }\n",
       "</style>\n",
       "<table border=\"1\" class=\"dataframe\">\n",
       "  <thead>\n",
       "    <tr style=\"text-align: right;\">\n",
       "      <th>variants</th>\n",
       "      <th>standard</th>\n",
       "      <th>svm_ensemble_v_1_22</th>\n",
       "    </tr>\n",
       "    <tr>\n",
       "      <th>group</th>\n",
       "      <th></th>\n",
       "      <th></th>\n",
       "    </tr>\n",
       "  </thead>\n",
       "  <tbody>\n",
       "    <tr>\n",
       "      <th>control</th>\n",
       "      <td>145274</td>\n",
       "      <td>1928</td>\n",
       "    </tr>\n",
       "    <tr>\n",
       "      <th>treatment</th>\n",
       "      <td>1965</td>\n",
       "      <td>145311</td>\n",
       "    </tr>\n",
       "  </tbody>\n",
       "</table>\n",
       "</div>"
      ],
      "text/plain": [
       "variants   standard  svm_ensemble_v_1_22\n",
       "group                                   \n",
       "control      145274                 1928\n",
       "treatment      1965               145311"
      ]
     },
     "execution_count": 5,
     "metadata": {},
     "output_type": "execute_result"
    }
   ],
   "source": [
    "pd.crosstab(data['group'], data['variants'])"
   ]
  },
  {
   "cell_type": "code",
   "execution_count": 6,
   "metadata": {},
   "outputs": [
    {
     "data": {
      "text/plain": [
       "treatment    0.500126\n",
       "control      0.499874\n",
       "Name: group, dtype: float64"
      ]
     },
     "execution_count": 6,
     "metadata": {},
     "output_type": "execute_result"
    }
   ],
   "source": [
    "data.group.value_counts(normalize=True)"
   ]
  },
  {
   "cell_type": "code",
   "execution_count": 7,
   "metadata": {},
   "outputs": [
    {
     "name": "stdout",
     "output_type": "stream",
     "text": [
      "There are 0 users that appear multiple times in the dataset.\n"
     ]
    }
   ],
   "source": [
    "session_counts = data['user_id'].value_counts(ascending=False)\n",
    "multi_users = session_counts[session_counts > 1].count()\n",
    "print(f'There are {multi_users} users that appear multiple times in the dataset.')"
   ]
  },
  {
   "cell_type": "code",
   "execution_count": 8,
   "metadata": {},
   "outputs": [
    {
     "data": {
      "text/html": [
       "<div>\n",
       "<style scoped>\n",
       "    .dataframe tbody tr th:only-of-type {\n",
       "        vertical-align: middle;\n",
       "    }\n",
       "\n",
       "    .dataframe tbody tr th {\n",
       "        vertical-align: top;\n",
       "    }\n",
       "\n",
       "    .dataframe thead th {\n",
       "        text-align: right;\n",
       "    }\n",
       "</style>\n",
       "<table border=\"1\" class=\"dataframe\">\n",
       "  <thead>\n",
       "    <tr style=\"text-align: right;\">\n",
       "      <th></th>\n",
       "      <th>CR mean</th>\n",
       "      <th>CR std</th>\n",
       "      <th>CR se</th>\n",
       "    </tr>\n",
       "    <tr>\n",
       "      <th>group</th>\n",
       "      <th></th>\n",
       "      <th></th>\n",
       "      <th></th>\n",
       "    </tr>\n",
       "  </thead>\n",
       "  <tbody>\n",
       "    <tr>\n",
       "      <th>control</th>\n",
       "      <td>0.120399</td>\n",
       "      <td>0.325428</td>\n",
       "      <td>0.000848</td>\n",
       "    </tr>\n",
       "    <tr>\n",
       "      <th>treatment</th>\n",
       "      <td>0.118920</td>\n",
       "      <td>0.323694</td>\n",
       "      <td>0.000843</td>\n",
       "    </tr>\n",
       "  </tbody>\n",
       "</table>\n",
       "</div>"
      ],
      "text/plain": [
       "            CR mean    CR std     CR se\n",
       "group                                  \n",
       "control    0.120399  0.325428  0.000848\n",
       "treatment  0.118920  0.323694  0.000843"
      ]
     },
     "execution_count": 8,
     "metadata": {},
     "output_type": "execute_result"
    }
   ],
   "source": [
    "conversion_rates = data.groupby('group')['converted']\n",
    "std_proportion = lambda x: np.std(x, ddof=0)\n",
    "se_proportion = lambda x: stats.sem(x, ddof=0)\n",
    "conversion_rates = conversion_rates.agg(\n",
    "    [np.mean, std_proportion, se_proportion]\n",
    "    ).rename(\n",
    "        columns={'mean':'CR mean',\n",
    "                      '<lambda_0>':'CR std',\n",
    "                      '<lambda_1>':'CR se'}\n",
    "            )\n",
    "conversion_rates"
   ]
  },
  {
   "cell_type": "code",
   "execution_count": 10,
   "metadata": {},
   "outputs": [
    {
     "data": {
      "image/png": "[encoded data removed]",
      "text/plain": [
       "<Figure size 576x432 with 1 Axes>"
      ]
     },
     "metadata": {},
     "output_type": "display_data"
    }
   ],
   "source": [
    "plt.figure(figsize=(8,6))\n",
    "sns.barplot(x=data['group'], y=data['converted'], ci=False)\n",
    "plt.ylim(0, 0.17)\n",
    "plt.title('Conversion rate by groups', pad=20)\n",
    "plt.xlabel('Group', labelpad=15)\n",
    "plt.ylabel('Converted (proportion)', labelpad=15);"
   ]
  },
  {
   "cell_type": "code",
   "execution_count": 11,
   "metadata": {},
   "outputs": [
    {
     "name": "stdout",
     "output_type": "stream",
     "text": [
      "Z-statistic: 1.24\n",
      "p-value: 0.216\n",
      "CI 95% for control group: [0.119, 0.122]\n",
      "CI 95% for treatment group: [0.117, 0.121]\n"
     ]
    }
   ],
   "source": [
    "control_results = data[data['group'] == 'control']['converted']\n",
    "treatment_results = data[data['group'] == 'treatment']['converted']\n",
    "\n",
    "n_con = control_results.count()\n",
    "n_treat = treatment_results.count()\n",
    "successes = [control_results.sum(), treatment_results.sum()]\n",
    "nobs = [n_con, n_treat]\n",
    "\n",
    "z_stat, pval = proportions_ztest(successes, nobs=nobs)\n",
    "(lower_con, lower_treat), (upper_con, upper_treat) = proportion_confint(successes, nobs=nobs, alpha=0.05)\n",
    "\n",
    "print(f'Z-statistic: {z_stat:.2f}')\n",
    "print(f'p-value: {pval:.3f}')\n",
    "print(f'CI 95% for control group: [{lower_con:.3f}, {upper_con:.3f}]')\n",
    "print(f'CI 95% for treatment group: [{lower_treat:.3f}, {upper_treat:.3f}]')"
   ]
  },
  {
   "cell_type": "markdown",
   "metadata": {},
   "source": [
    "Since the p-value=0.216 is above the α=0.05 threshold, the Null hypothesis Hₒ cannot be rejected, which means that the new variant did not perform significantly different than the standard one.\n",
    "\n",
    "Additionally, the confidence interval for the treatment group ([0.117, 0.121], or 11.7-12.1%) does not have the target value of 15% (the 2% uplift) included.\n",
    "What this means is that the treatment did not show any statistically significant change in conversion. Thus, the new variant is not likely to be an improvement, and it can be concluded that the treatment should not be implemented."
   ]
  },
  {
   "cell_type": "code",
   "execution_count": 12,
   "metadata": {},
   "outputs": [
    {
     "data": {
      "text/html": [
       "<div>\n",
       "<style scoped>\n",
       "    .dataframe tbody tr th:only-of-type {\n",
       "        vertical-align: middle;\n",
       "    }\n",
       "\n",
       "    .dataframe tbody tr th {\n",
       "        vertical-align: top;\n",
       "    }\n",
       "\n",
       "    .dataframe thead th {\n",
       "        text-align: right;\n",
       "    }\n",
       "</style>\n",
       "<table border=\"1\" class=\"dataframe\">\n",
       "  <thead>\n",
       "    <tr style=\"text-align: right;\">\n",
       "      <th>variants</th>\n",
       "      <th>standard</th>\n",
       "      <th>svm_ensemble_v_1_22</th>\n",
       "    </tr>\n",
       "    <tr>\n",
       "      <th>user_type</th>\n",
       "      <th></th>\n",
       "      <th></th>\n",
       "    </tr>\n",
       "  </thead>\n",
       "  <tbody>\n",
       "    <tr>\n",
       "      <th>new_user</th>\n",
       "      <td>73797</td>\n",
       "      <td>73441</td>\n",
       "    </tr>\n",
       "    <tr>\n",
       "      <th>registered_user</th>\n",
       "      <td>73442</td>\n",
       "      <td>73798</td>\n",
       "    </tr>\n",
       "  </tbody>\n",
       "</table>\n",
       "</div>"
      ],
      "text/plain": [
       "variants         standard  svm_ensemble_v_1_22\n",
       "user_type                                     \n",
       "new_user            73797                73441\n",
       "registered_user     73442                73798"
      ]
     },
     "execution_count": 12,
     "metadata": {},
     "output_type": "execute_result"
    }
   ],
   "source": [
    "pd.crosstab(data['user_type'], data['variants'])"
   ]
  },
  {
   "cell_type": "code",
   "execution_count": 13,
   "metadata": {},
   "outputs": [
    {
     "data": {
      "text/plain": [
       "registered_user    0.500003\n",
       "new_user           0.499997\n",
       "Name: user_type, dtype: float64"
      ]
     },
     "execution_count": 13,
     "metadata": {},
     "output_type": "execute_result"
    }
   ],
   "source": [
    "data.user_type.value_counts(normalize=True)"
   ]
  },
  {
   "cell_type": "code",
   "execution_count": 14,
   "metadata": {},
   "outputs": [
    {
     "data": {
      "text/html": [
       "<div>\n",
       "<style scoped>\n",
       "    .dataframe tbody tr th:only-of-type {\n",
       "        vertical-align: middle;\n",
       "    }\n",
       "\n",
       "    .dataframe tbody tr th {\n",
       "        vertical-align: top;\n",
       "    }\n",
       "\n",
       "    .dataframe thead th {\n",
       "        text-align: right;\n",
       "    }\n",
       "</style>\n",
       "<table border=\"1\" class=\"dataframe\">\n",
       "  <thead>\n",
       "    <tr style=\"text-align: right;\">\n",
       "      <th></th>\n",
       "      <th></th>\n",
       "      <th>mean</th>\n",
       "      <th>std</th>\n",
       "      <th>se</th>\n",
       "    </tr>\n",
       "    <tr>\n",
       "      <th>user_type</th>\n",
       "      <th>variants</th>\n",
       "      <th></th>\n",
       "      <th></th>\n",
       "      <th></th>\n",
       "    </tr>\n",
       "  </thead>\n",
       "  <tbody>\n",
       "    <tr>\n",
       "      <th rowspan=\"2\" valign=\"top\">new_user</th>\n",
       "      <th>standard</th>\n",
       "      <td>0.121075</td>\n",
       "      <td>0.326215</td>\n",
       "      <td>0.001201</td>\n",
       "    </tr>\n",
       "    <tr>\n",
       "      <th>svm_ensemble_v_1_22</th>\n",
       "      <td>0.117223</td>\n",
       "      <td>0.321686</td>\n",
       "      <td>0.001187</td>\n",
       "    </tr>\n",
       "    <tr>\n",
       "      <th rowspan=\"2\" valign=\"top\">registered_user</th>\n",
       "      <th>standard</th>\n",
       "      <td>0.119877</td>\n",
       "      <td>0.324818</td>\n",
       "      <td>0.001199</td>\n",
       "    </tr>\n",
       "    <tr>\n",
       "      <th>svm_ensemble_v_1_22</th>\n",
       "      <td>0.120450</td>\n",
       "      <td>0.325488</td>\n",
       "      <td>0.001198</td>\n",
       "    </tr>\n",
       "  </tbody>\n",
       "</table>\n",
       "</div>"
      ],
      "text/plain": [
       "                                         mean       std        se\n",
       "user_type       variants                                         \n",
       "new_user        standard             0.121075  0.326215  0.001201\n",
       "                svm_ensemble_v_1_22  0.117223  0.321686  0.001187\n",
       "registered_user standard             0.119877  0.324818  0.001199\n",
       "                svm_ensemble_v_1_22  0.120450  0.325488  0.001198"
      ]
     },
     "execution_count": 14,
     "metadata": {},
     "output_type": "execute_result"
    }
   ],
   "source": [
    "rate_user_type = data.groupby(['user_type', 'variants'])['converted']\n",
    "std_proportion = lambda x: np.std(x, ddof=0)\n",
    "se_proportion = lambda x: stats.sem(x, ddof=0)\n",
    "rate_user_type = rate_user_type.agg(\n",
    "    [np.mean, std_proportion, se_proportion]\n",
    "    ).rename(\n",
    "        columns={'mean':'mean',\n",
    "                 '<lambda_0>':'std',\n",
    "                 '<lambda_1>':'se'}\n",
    "            )\n",
    "rate_user_type"
   ]
  },
  {
   "cell_type": "code",
   "execution_count": 15,
   "metadata": {},
   "outputs": [],
   "source": [
    "reg_users = data[data.user_type == 'registered_user']\n",
    "new_users = data[data.user_type == 'new_user']"
   ]
  },
  {
   "cell_type": "code",
   "execution_count": 16,
   "metadata": {},
   "outputs": [
    {
     "name": "stdout",
     "output_type": "stream",
     "text": [
      "Z-statistic: -0.34\n",
      "p-value: 0.735\n",
      "CI 95% for a standard variant: [0.118, 0.122]\n",
      "CI 95% for a new variant: [0.118, 0.123]\n"
     ]
    }
   ],
   "source": [
    "# registered users\n",
    "reg_st_results = reg_users[reg_users['variants'] == 'standard']['converted']\n",
    "reg_svm_results = reg_users[reg_users['variants'] == 'svm_ensemble_v_1_22']['converted']\n",
    "\n",
    "n_reg_st =reg_st_results.count()\n",
    "n_reg_svm= reg_svm_results.count()\n",
    "success_reg = [reg_st_results.sum(), reg_svm_results.sum()]\n",
    "nobs_r = [n_reg_st, n_reg_svm]\n",
    "\n",
    "z_stat_r,pval_r = proportions_ztest(success_reg, nobs=nobs_r)\n",
    "(lower_reg_st, lower_reg_svm), (upper_reg_st, upper_reg_svm) = proportion_confint(success_reg,\n",
    "    nobs=nobs_r, alpha=0.05)\n",
    "\n",
    "print(f'Z-statistic: {z_stat_r:.2f}')\n",
    "print(f'p-value: {pval_r:.3f}')\n",
    "print(f'CI 95% for a standard variant: [{lower_reg_st:.3f}, {upper_reg_st:.3f}]')\n",
    "print(f'CI 95% for a new variant: [{lower_reg_svm:.3f}, {upper_reg_svm:.3f}]')"
   ]
  },
  {
   "cell_type": "markdown",
   "metadata": {},
   "source": [
    "The p-value=0.735 is above the α=0.05 threshold, therefore the Null hypothesis Hₒ cannot be rejected, which means that the new variant did not perform significantly different than the standard one.\n",
    "Thus, the new variant is not likely to be an improvement, and it can be concluded that the old version should be kept for registered users."
   ]
  },
  {
   "cell_type": "code",
   "execution_count": 17,
   "metadata": {},
   "outputs": [
    {
     "name": "stdout",
     "output_type": "stream",
     "text": [
      "Z-statistic: 2.28\n",
      "p-value: 0.023\n",
      "CI 95% for a standard variant: [0.119, 0.123]\n",
      "CI 95% for a new variant: [0.115, 0.120]\n"
     ]
    }
   ],
   "source": [
    "# new users\n",
    "new_st_results = new_users[new_users['variants'] == 'standard']['converted']\n",
    "new_svm_results = new_users[new_users['variants'] == 'svm_ensemble_v_1_22']['converted']\n",
    "\n",
    "n_new_st = new_st_results.count()\n",
    "n_new_svm = new_svm_results.count()\n",
    "success_new = [new_st_results.sum(), new_svm_results.sum()]\n",
    "nobs_n = [n_new_st, n_new_svm]\n",
    "\n",
    "z_stat_n, pval_n = proportions_ztest(success_new, nobs=nobs_n)\n",
    "(lower_new_st, lower_new_svm), (upper_new_st, upper_new_svm) = proportion_confint(success_new,\n",
    "nobs=nobs_n, alpha=0.05)\n",
    "\n",
    "print(f'Z-statistic: {z_stat_n:.2f}')\n",
    "print(f'p-value: {pval_n:.3f}')\n",
    "print(f'CI 95% for a standard variant: [{lower_new_st:.3f}, {upper_new_st:.3f}]')\n",
    "print(f'CI 95% for a new variant: [{lower_new_svm:.3f}, {upper_new_svm:.3f}]')"
   ]
  },
  {
   "cell_type": "markdown",
   "metadata": {},
   "source": [
    "The p-value=0.023 is below the α=0.05 threshold, therefore the Null hypothesis Hₒ can be rejected, which means that the new variant did perform significantly different than the standard one. Thus, the new variant of the page can be kept for new users."
   ]
  },
  {
   "cell_type": "code",
   "execution_count": null,
   "metadata": {},
   "outputs": [],
   "source": []
  }
 ],
 "metadata": {
  "kernelspec": {
   "display_name": "Python 3",
   "language": "python",
   "name": "python3"
  },
  "language_info": {
   "codemirror_mode": {
    "name": "ipython",
    "version": 3
   },
   "file_extension": ".py",
   "mimetype": "text/x-python",
   "name": "python",
   "nbconvert_exporter": "python",
   "pygments_lexer": "ipython3",
   "version": "3.10.7"
  },
  "vscode": {
   "interpreter": {
    "hash": "2a8dfe095fce2b5e88c64a2c3ee084c8e0e0d70b23e7b95b1cfb538be294c5c8"
   }
  }
 },
 "nbformat": 4,
 "nbformat_minor": 0
}
